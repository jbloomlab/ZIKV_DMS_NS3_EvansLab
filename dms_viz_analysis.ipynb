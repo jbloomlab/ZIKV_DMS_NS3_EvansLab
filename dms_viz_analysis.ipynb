{
 "cells": [
  {
   "cell_type": "code",
   "execution_count": 5,
   "metadata": {},
   "outputs": [],
   "source": [
    "import pandas as pd\n",
    "import os\n",
    "import subprocess"
   ]
  },
  {
   "cell_type": "markdown",
   "metadata": {},
   "source": [
    "## Check out the commands\n",
    "\n",
    "What are the commands that we're running?"
   ]
  },
  {
   "cell_type": "code",
   "execution_count": 6,
   "metadata": {},
   "outputs": [
    {
     "data": {
      "text/html": [
       "<div>\n",
       "<style scoped>\n",
       "    .dataframe tbody tr th:only-of-type {\n",
       "        vertical-align: middle;\n",
       "    }\n",
       "\n",
       "    .dataframe tbody tr th {\n",
       "        vertical-align: top;\n",
       "    }\n",
       "\n",
       "    .dataframe thead th {\n",
       "        text-align: right;\n",
       "    }\n",
       "</style>\n",
       "<table border=\"1\" class=\"dataframe\">\n",
       "  <thead>\n",
       "    <tr style=\"text-align: right;\">\n",
       "      <th></th>\n",
       "      <th>input</th>\n",
       "      <th>sitemap</th>\n",
       "      <th>name</th>\n",
       "      <th>metric</th>\n",
       "      <th>metric_name</th>\n",
       "      <th>structure</th>\n",
       "      <th>included_chains</th>\n",
       "      <th>excluded_chains</th>\n",
       "      <th>title</th>\n",
       "      <th>exclude_amino_acids</th>\n",
       "    </tr>\n",
       "  </thead>\n",
       "  <tbody>\n",
       "    <tr>\n",
       "      <th>0</th>\n",
       "      <td>data/dms-viz/input/ZIKV_NS2B_NS3_DMS.csv</td>\n",
       "      <td>data/dms-viz/sitemap/5GJ4_sitemap.csv</td>\n",
       "      <td>ZIKV NS2B-NS3 (Open)</td>\n",
       "      <td>log2effect</td>\n",
       "      <td>Log2(Effect)</td>\n",
       "      <td>5GJ4</td>\n",
       "      <td>polymer</td>\n",
       "      <td>none</td>\n",
       "      <td>ZIKV NS2B-NS3 (Open) DMS</td>\n",
       "      <td>*</td>\n",
       "    </tr>\n",
       "    <tr>\n",
       "      <th>1</th>\n",
       "      <td>data/dms-viz/input/ZIKV_NS2B_NS3_DMS.csv</td>\n",
       "      <td>data/dms-viz/sitemap/5LC0_sitemap.csv</td>\n",
       "      <td>ZIKV NS2B-NS3 (Closed)</td>\n",
       "      <td>log2effect</td>\n",
       "      <td>Log2(Effect)</td>\n",
       "      <td>5LC0</td>\n",
       "      <td>polymer</td>\n",
       "      <td>none</td>\n",
       "      <td>ZIKV NS2B-NS3 (Closed) DMS</td>\n",
       "      <td>*</td>\n",
       "    </tr>\n",
       "  </tbody>\n",
       "</table>\n",
       "</div>"
      ],
      "text/plain": [
       "                                      input   \n",
       "0  data/dms-viz/input/ZIKV_NS2B_NS3_DMS.csv  \\\n",
       "1  data/dms-viz/input/ZIKV_NS2B_NS3_DMS.csv   \n",
       "\n",
       "                                 sitemap                    name      metric   \n",
       "0  data/dms-viz/sitemap/5GJ4_sitemap.csv    ZIKV NS2B-NS3 (Open)  log2effect  \\\n",
       "1  data/dms-viz/sitemap/5LC0_sitemap.csv  ZIKV NS2B-NS3 (Closed)  log2effect   \n",
       "\n",
       "    metric_name structure included_chains excluded_chains   \n",
       "0  Log2(Effect)      5GJ4         polymer            none  \\\n",
       "1  Log2(Effect)      5LC0         polymer            none   \n",
       "\n",
       "                        title exclude_amino_acids  \n",
       "0    ZIKV NS2B-NS3 (Open) DMS                   *  \n",
       "1  ZIKV NS2B-NS3 (Closed) DMS                   *  "
      ]
     },
     "execution_count": 6,
     "metadata": {},
     "output_type": "execute_result"
    }
   ],
   "source": [
    "commands = pd.read_csv('data/dms-viz/datasets.csv')\n",
    "commands.head()"
   ]
  },
  {
   "cell_type": "markdown",
   "metadata": {},
   "source": [
    "## Run `configure-dms-viz`\n",
    "\n",
    "Run the `configure-dms-viz` command for each structure that we want to visualize."
   ]
  },
  {
   "cell_type": "code",
   "execution_count": 7,
   "metadata": {},
   "outputs": [],
   "source": [
    "\n",
    "def create_viz_json(input_df, sitemap_df, output_path, **kwargs):\n",
    "    \"\"\"\n",
    "    Creates a visualization JSON file for a given experiment/dataset.\n",
    "\n",
    "    Parameters\n",
    "    ----------\n",
    "    input_df : str\n",
    "        Path to the input dataframe CSV (--input).\n",
    "    sitemap_df : str\n",
    "        Path to the sitemap dataframe CSV (--sitemap).\n",
    "    output_path : str\n",
    "        Path to the output path JSON (--output).\n",
    "\n",
    "    Returns\n",
    "    -------\n",
    "    None\n",
    "        Executes a subprocess command and does not return any value.\n",
    "    \"\"\"\n",
    "\n",
    "    command = f\"\"\"\n",
    "    configure-dms-viz format \\\n",
    "        --input \"{input_df}\" \\\n",
    "        --sitemap \"{sitemap_df}\" \\\n",
    "        --output \"{output_path}\" \\\n",
    "    \"\"\"\n",
    "    for key, value in kwargs.items():\n",
    "        command += f' --{key} \"{value}\"'\n",
    "    subprocess.run(command, shell=True, check=True)\n",
    "\n",
    "\n",
    "def combine_jsons(input_files, output_file, description_file):\n",
    "    \"\"\"\n",
    "    Combines multiple JSON files into a single file.\n",
    "\n",
    "    Parameters\n",
    "    ----------\n",
    "    input_files : list of str\n",
    "        List of paths to the input JSON files.\n",
    "    output_file : str\n",
    "        Path where the combined JSON should be saved.\n",
    "\n",
    "    Returns\n",
    "    -------\n",
    "    None\n",
    "        Executes a subprocess command and does not return any value.\n",
    "    \"\"\"\n",
    "    command = f\"\"\"\n",
    "    configure-dms-viz join \\\n",
    "        --input \"{', '.join(input_files)}\" \\\n",
    "        --output \"{output_file}\" \\\n",
    "        --description \"{description_file}\" \\\n",
    "    \"\"\"\n",
    "    subprocess.run(command, shell=True, check=True)"
   ]
  },
  {
   "cell_type": "code",
   "execution_count": 8,
   "metadata": {},
   "outputs": [
    {
     "name": "stdout",
     "output_type": "stream",
     "text": [
      "\n",
      "Formatting data for visualization using the 'log2effect' column from 'data/dms-viz/input/ZIKV_NS2B_NS3_DMS.csv'...\n",
      "\n",
      "Using sitemap from 'data/dms-viz/sitemap/5GJ4_sitemap.csv'.\n",
      "About 63.31% of the wildtype residues in the data match the corresponding residues in the structure.\n",
      "About 36.36% of the data sites are missing from the structure.\n",
      "\n",
      "Success! The visualization JSON was written to 'data/dms-viz/output/ZIKV NS2B-NS3 (Open).json'\n",
      "\n",
      "Formatting data for visualization using the 'log2effect' column from 'data/dms-viz/input/ZIKV_NS2B_NS3_DMS.csv'...\n",
      "\n",
      "Using sitemap from 'data/dms-viz/sitemap/5LC0_sitemap.csv'.\n",
      "About 61.36% of the wildtype residues in the data match the corresponding residues in the structure.\n",
      "About 37.66% of the data sites are missing from the structure.\n",
      "\n",
      "Success! The visualization JSON was written to 'data/dms-viz/output/ZIKV NS2B-NS3 (Closed).json'\n",
      "\n",
      "Success! 2 JSON files were merged and saved to 'data/dms-viz/output/ZIKV-NS2B-NS3-DMS.json'\n"
     ]
    }
   ],
   "source": [
    "# Generate JSONs for each command\n",
    "viz_jsons = []\n",
    "for row in commands.itertuples():\n",
    "    arguments = {\n",
    "        key.replace(\"_\", \"-\"): value\n",
    "        for key, value in row._asdict().items()\n",
    "        if key not in [\"input\", \"sitemap\", \"Index\"]\n",
    "    }\n",
    "    output_path = f\"data/dms-viz/output/{row.name}.json\"\n",
    "    create_viz_json(row.input, row.sitemap, output_path, **arguments)\n",
    "    viz_jsons.append(output_path)\n",
    "\n",
    "# Combine JSONs into a single file\n",
    "combine_jsons(viz_jsons, \"data/dms-viz/output/ZIKV-NS2B-NS3-DMS.json\", \"data/dms-viz/README.md\")"
   ]
  },
  {
   "cell_type": "code",
   "execution_count": null,
   "metadata": {},
   "outputs": [],
   "source": []
  }
 ],
 "metadata": {
  "kernelspec": {
   "display_name": "dms-viz",
   "language": "python",
   "name": "python3"
  },
  "language_info": {
   "codemirror_mode": {
    "name": "ipython",
    "version": 3
   },
   "file_extension": ".py",
   "mimetype": "text/x-python",
   "name": "python",
   "nbconvert_exporter": "python",
   "pygments_lexer": "ipython3",
   "version": "3.10.10"
  }
 },
 "nbformat": 4,
 "nbformat_minor": 2
}
