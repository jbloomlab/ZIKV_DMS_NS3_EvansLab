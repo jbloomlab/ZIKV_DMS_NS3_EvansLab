{
 "cells": [
  {
   "cell_type": "code",
   "execution_count": 1,
   "metadata": {},
   "outputs": [],
   "source": [
    "import pandas as pd\n",
    "import os\n",
    "import subprocess"
   ]
  },
  {
   "cell_type": "markdown",
   "metadata": {},
   "source": [
    "## Join Tiles\n",
    "\n",
    "I'll join the mutation effect data from all tiles (with stop codons) into a single dataframe."
   ]
  },
  {
   "cell_type": "code",
   "execution_count": 2,
   "metadata": {},
   "outputs": [
    {
     "data": {
      "text/html": [
       "<div>\n",
       "<style scoped>\n",
       "    .dataframe tbody tr th:only-of-type {\n",
       "        vertical-align: middle;\n",
       "    }\n",
       "\n",
       "    .dataframe tbody tr th {\n",
       "        vertical-align: top;\n",
       "    }\n",
       "\n",
       "    .dataframe thead th {\n",
       "        text-align: right;\n",
       "    }\n",
       "</style>\n",
       "<table border=\"1\" class=\"dataframe\">\n",
       "  <thead>\n",
       "    <tr style=\"text-align: right;\">\n",
       "      <th></th>\n",
       "      <th>site</th>\n",
       "      <th>wildtype</th>\n",
       "      <th>mutant</th>\n",
       "      <th>mutation</th>\n",
       "      <th>effect</th>\n",
       "      <th>log2effect</th>\n",
       "      <th>tile</th>\n",
       "      <th>tile_name</th>\n",
       "    </tr>\n",
       "  </thead>\n",
       "  <tbody>\n",
       "    <tr>\n",
       "      <th>0</th>\n",
       "      <td>1</td>\n",
       "      <td>R</td>\n",
       "      <td>*</td>\n",
       "      <td>R1*</td>\n",
       "      <td>0.001401</td>\n",
       "      <td>-9.4799</td>\n",
       "      <td>1</td>\n",
       "      <td>Tile 1</td>\n",
       "    </tr>\n",
       "    <tr>\n",
       "      <th>1</th>\n",
       "      <td>1</td>\n",
       "      <td>R</td>\n",
       "      <td>A</td>\n",
       "      <td>R1A</td>\n",
       "      <td>0.003133</td>\n",
       "      <td>-8.3181</td>\n",
       "      <td>1</td>\n",
       "      <td>Tile 1</td>\n",
       "    </tr>\n",
       "    <tr>\n",
       "      <th>2</th>\n",
       "      <td>1</td>\n",
       "      <td>R</td>\n",
       "      <td>C</td>\n",
       "      <td>R1C</td>\n",
       "      <td>0.007928</td>\n",
       "      <td>-6.9788</td>\n",
       "      <td>1</td>\n",
       "      <td>Tile 1</td>\n",
       "    </tr>\n",
       "    <tr>\n",
       "      <th>3</th>\n",
       "      <td>1</td>\n",
       "      <td>R</td>\n",
       "      <td>D</td>\n",
       "      <td>R1D</td>\n",
       "      <td>0.008225</td>\n",
       "      <td>-6.9258</td>\n",
       "      <td>1</td>\n",
       "      <td>Tile 1</td>\n",
       "    </tr>\n",
       "    <tr>\n",
       "      <th>4</th>\n",
       "      <td>1</td>\n",
       "      <td>R</td>\n",
       "      <td>E</td>\n",
       "      <td>R1E</td>\n",
       "      <td>0.004463</td>\n",
       "      <td>-7.8079</td>\n",
       "      <td>1</td>\n",
       "      <td>Tile 1</td>\n",
       "    </tr>\n",
       "  </tbody>\n",
       "</table>\n",
       "</div>"
      ],
      "text/plain": [
       "   site wildtype mutant mutation    effect  log2effect  tile tile_name\n",
       "0     1        R      *      R1*  0.001401     -9.4799     1    Tile 1\n",
       "1     1        R      A      R1A  0.003133     -8.3181     1    Tile 1\n",
       "2     1        R      C      R1C  0.007928     -6.9788     1    Tile 1\n",
       "3     1        R      D      R1D  0.008225     -6.9258     1    Tile 1\n",
       "4     1        R      E      R1E  0.004463     -7.8079     1    Tile 1"
      ]
     },
     "execution_count": 2,
     "metadata": {},
     "output_type": "execute_result"
    }
   ],
   "source": [
    "# Store dataframes after reading from each file\n",
    "tile_dfs = []\n",
    "# Loop through each directory in the base directory\n",
    "for subdir in os.listdir(\"results\"):\n",
    "    # Check if the directory matches the tile_* pattern\n",
    "    if \"tile_\" in subdir:\n",
    "        # Build the full file path\n",
    "        file_path = os.path.join(\"results\", subdir, \"muteffects_withStops\", \"virus_muteffects.csv\")\n",
    "        # Check if the file exists\n",
    "        if os.path.exists(file_path):\n",
    "            # Load the file into a dataframe\n",
    "            df = pd.read_csv(file_path) \n",
    "            # Add the 'tile' column\n",
    "            df[\"tile\"] = int(subdir.split(\"_\")[1])\n",
    "            # Append the dataframe to the list\n",
    "            tile_dfs.append(df)\n",
    "\n",
    "# Concatenate all dataframes into one\n",
    "all_tiles_df = pd.concat(tile_dfs, ignore_index=True).sort_values(by=['tile', 'site']).reset_index(drop=True)\n",
    "all_tiles_df['tile_name'] = 'Tile ' + all_tiles_df['tile'].astype(str)\n",
    "\n",
    "# Write the dataframe to a CSV file to a new dms_viz directory in the results directory\n",
    "if not os.path.exists(\"results/dms_viz\"):\n",
    "    os.makedirs(\"results/dms_viz\")\n",
    "all_tiles_df.to_csv(\"results/dms_viz/virus_muteffects.csv\", index=False)\n",
    "\n",
    "all_tiles_df.head()"
   ]
  },
  {
   "cell_type": "markdown",
   "metadata": {},
   "source": [
    "## Make the Sitemap\n",
    "\n",
    "I need to map the sites from the reference to the protein structure. For now, I'll just assume that this is one-to-one. "
   ]
  },
  {
   "cell_type": "code",
   "execution_count": 38,
   "metadata": {},
   "outputs": [
    {
     "data": {
      "text/html": [
       "<div>\n",
       "<style scoped>\n",
       "    .dataframe tbody tr th:only-of-type {\n",
       "        vertical-align: middle;\n",
       "    }\n",
       "\n",
       "    .dataframe tbody tr th {\n",
       "        vertical-align: top;\n",
       "    }\n",
       "\n",
       "    .dataframe thead th {\n",
       "        text-align: right;\n",
       "    }\n",
       "</style>\n",
       "<table border=\"1\" class=\"dataframe\">\n",
       "  <thead>\n",
       "    <tr style=\"text-align: right;\">\n",
       "      <th></th>\n",
       "      <th>reference_site</th>\n",
       "      <th>sequential_site</th>\n",
       "      <th>protein_site</th>\n",
       "    </tr>\n",
       "  </thead>\n",
       "  <tbody>\n",
       "    <tr>\n",
       "      <th>0</th>\n",
       "      <td>1</td>\n",
       "      <td>1</td>\n",
       "      <td>-130</td>\n",
       "    </tr>\n",
       "    <tr>\n",
       "      <th>1</th>\n",
       "      <td>2</td>\n",
       "      <td>2</td>\n",
       "      <td>-129</td>\n",
       "    </tr>\n",
       "    <tr>\n",
       "      <th>2</th>\n",
       "      <td>3</td>\n",
       "      <td>3</td>\n",
       "      <td>-128</td>\n",
       "    </tr>\n",
       "    <tr>\n",
       "      <th>3</th>\n",
       "      <td>4</td>\n",
       "      <td>4</td>\n",
       "      <td>-127</td>\n",
       "    </tr>\n",
       "    <tr>\n",
       "      <th>4</th>\n",
       "      <td>5</td>\n",
       "      <td>5</td>\n",
       "      <td>-126</td>\n",
       "    </tr>\n",
       "  </tbody>\n",
       "</table>\n",
       "</div>"
      ],
      "text/plain": [
       "   reference_site  sequential_site  protein_site\n",
       "0               1                1          -130\n",
       "1               2                2          -129\n",
       "2               3                3          -128\n",
       "3               4                4          -127\n",
       "4               5                5          -126"
      ]
     },
     "execution_count": 38,
     "metadata": {},
     "output_type": "execute_result"
    }
   ],
   "source": [
    "# Extract unique sites and create the sitemap dataframe\n",
    "unique_sites = all_tiles_df['site'].unique()\n",
    "sitemap_df = pd.DataFrame({\n",
    "    'reference_site': unique_sites,\n",
    "    'sequential_site': unique_sites\n",
    "})\n",
    "# Offset the sites by 131 \n",
    "sitemap_df['protein_site'] = sitemap_df['reference_site'] - 131\n",
    "\n",
    "\n",
    "# Write the dataframe to a CSV file to a new dms_viz directory in the results directory\n",
    "if not os.path.exists(\"results/dms_viz\"):\n",
    "    os.makedirs(\"results/dms_viz\")\n",
    "sitemap_df.to_csv(\"results/dms_viz/sitemap.csv\", index=False)\n",
    "\n",
    "sitemap_df.head()"
   ]
  },
  {
   "cell_type": "markdown",
   "metadata": {},
   "source": [
    "## Make the `dms-viz` JSON"
   ]
  },
  {
   "cell_type": "code",
   "execution_count": 43,
   "metadata": {},
   "outputs": [],
   "source": [
    "command = \"\"\"\n",
    "configure-dms-viz format \\\n",
    "  --input \"results/dms_viz/virus_muteffects.csv\" \\\n",
    "  --sitemap \"results/dms_viz/sitemap.csv\" \\\n",
    "  --output \"results/dms_viz/zikv-ns3.json\" \\\n",
    "  --name \"ZIKV NS3\" \\\n",
    "  --metric \"effect\" \\\n",
    "  --metric-name \"Mutation Effect\" \\\n",
    "  --condition \"tile_name\" \\\n",
    "  --condition-name \"Tile\" \\\n",
    "  --structure \"6KK6\" \\\n",
    "  --included-chains \"B\" \\\n",
    "  --exclude-amino-acids \"*\" \\\n",
    "  --description \"Deep mutational scanning on the ZIKV NS3 [PDB: 6KK6]\" \\\n",
    "  --title \"Zika Virus NS3 DMS [PDB: 6KK6]\"\n",
    "\"\"\""
   ]
  },
  {
   "cell_type": "code",
   "execution_count": 44,
   "metadata": {},
   "outputs": [
    {
     "name": "stdout",
     "output_type": "stream",
     "text": [
      "\n",
      "Formatting data for visualization using the 'effect' column from 'results/dms_viz/virus_muteffects.csv'...\n",
      "\n",
      "Using sitemap from 'results/dms_viz/sitemap.csv'.\n",
      "Warning: Fewer than 49.03% of the wildtype residues in the data match the corresponding residues in the structure.\n",
      "Warning: 50.65% of the data sites are missing from the structure.\n",
      "\n",
      "Success! The visualization JSON was written to 'results/dms_viz/zikv-ns3.json'\n"
     ]
    },
    {
     "data": {
      "text/plain": [
       "CompletedProcess(args='\\nconfigure-dms-viz format   --input \"results/dms_viz/virus_muteffects.csv\"   --sitemap \"results/dms_viz/sitemap.csv\"   --output \"results/dms_viz/zikv-ns3.json\"   --name \"ZIKV NS3\"   --metric \"effect\"   --metric-name \"Mutation Effect\"   --condition \"tile_name\"   --condition-name \"Tile\"   --structure \"6KK6\"   --included-chains \"B\"   --exclude-amino-acids \"*\"   --description \"Deep mutational scanning on the ZIKV NS3 [PDB: 6KK6]\"   --title \"Zika Virus NS3 DMS [PDB: 6KK6]\"\\n', returncode=0)"
      ]
     },
     "execution_count": 44,
     "metadata": {},
     "output_type": "execute_result"
    }
   ],
   "source": [
    "subprocess.run(command, shell=True, check=True)"
   ]
  },
  {
   "cell_type": "code",
   "execution_count": null,
   "metadata": {},
   "outputs": [],
   "source": []
  }
 ],
 "metadata": {
  "kernelspec": {
   "display_name": "dms-viz",
   "language": "python",
   "name": "python3"
  },
  "language_info": {
   "codemirror_mode": {
    "name": "ipython",
    "version": 3
   },
   "file_extension": ".py",
   "mimetype": "text/x-python",
   "name": "python",
   "nbconvert_exporter": "python",
   "pygments_lexer": "ipython3",
   "version": "3.10.10"
  }
 },
 "nbformat": 4,
 "nbformat_minor": 2
}
