{
 "cells": [
  {
   "cell_type": "code",
   "execution_count": 1,
   "id": "e437a104",
   "metadata": {
    "execution": {
     "iopub.execute_input": "2024-07-19T22:56:27.609115Z",
     "iopub.status.busy": "2024-07-19T22:56:27.608641Z",
     "iopub.status.idle": "2024-07-19T22:56:27.746167Z",
     "shell.execute_reply": "2024-07-19T22:56:27.744927Z"
    },
    "tags": [
     "snakemake-job-properties"
    ]
   },
   "outputs": [],
   "source": [
    "\n",
    "######## snakemake preamble start (automatically inserted, do not edit) ########\n",
    "import sys; sys.path.extend(['/home/whannon/miniforge3/envs/ZIKV_DMS_NS3_EvansLab/lib/python3.8/site-packages', '/home/whannon/.cache/snakemake/snakemake/source-cache/runtime-cache/tmpnqbqylen/file/fh/fast/bloom_j/computational_notebooks/whannon/2024/ZIKV_DMS_NS3_EvansLab', '/fh/fast/bloom_j/computational_notebooks/whannon/2024/ZIKV_DMS_NS3_EvansLab']); import pickle; snakemake = pickle.loads(b\"\\x80\\x04\\x95\\xea\\x05\\x00\\x00\\x00\\x00\\x00\\x00\\x8c\\x10snakemake.script\\x94\\x8c\\tSnakemake\\x94\\x93\\x94)\\x81\\x94}\\x94(\\x8c\\x05input\\x94\\x8c\\x0csnakemake.io\\x94\\x8c\\nInputFiles\\x94\\x93\\x94)\\x81\\x94(\\x8c\\x0eresults/tile_1\\x94\\x8c\\x0eresults/tile_2\\x94\\x8c\\x0eresults/tile_3\\x94e}\\x94(\\x8c\\x06_names\\x94}\\x94\\x8c\\x12_allowed_overrides\\x94]\\x94(\\x8c\\x05index\\x94\\x8c\\x04sort\\x94eh\\x12\\x8c\\tfunctools\\x94\\x8c\\x07partial\\x94\\x93\\x94h\\x06\\x8c\\x19Namedlist._used_attribute\\x94\\x93\\x94\\x85\\x94R\\x94(h\\x18)}\\x94\\x8c\\x05_name\\x94h\\x12sNt\\x94bh\\x13h\\x16h\\x18\\x85\\x94R\\x94(h\\x18)}\\x94h\\x1ch\\x13sNt\\x94bub\\x8c\\x06output\\x94h\\x06\\x8c\\x0bOutputFiles\\x94\\x93\\x94)\\x81\\x94(\\x8c5results/summary/all_tiles_effects_and_preferences.csv\\x94\\x8c@results/summary/all_tiles_effects_and_preferences_with_stops.csv\\x94e}\\x94(h\\x0e}\\x94(\\x8c\\x11without_stops_csv\\x94K\\x00N\\x86\\x94\\x8c\\x0ewith_stops_csv\\x94K\\x01N\\x86\\x94uh\\x10]\\x94(h\\x12h\\x13eh\\x12h\\x16h\\x18\\x85\\x94R\\x94(h\\x18)}\\x94h\\x1ch\\x12sNt\\x94bh\\x13h\\x16h\\x18\\x85\\x94R\\x94(h\\x18)}\\x94h\\x1ch\\x13sNt\\x94bh*h&h,h'ub\\x8c\\x06params\\x94h\\x06\\x8c\\x06Params\\x94\\x93\\x94)\\x81\\x94}\\x94(\\x8c\\x06tile_1\\x94}\\x94(\\x8c\\x06errpre\\x94\\x8c\\x11wt-plasmid-231024\\x94\\x8c\\x12site_number_offset\\x94K\\x00u\\x8c\\x06tile_2\\x94}\\x94(\\x8c\\x06errpre\\x94\\x8c\\x11wt-plasmid-231024\\x94\\x8c\\x12site_number_offset\\x94Kgu\\x8c\\x06tile_3\\x94}\\x94(\\x8c\\x06errpre\\x94\\x8c\\x11wt-plasmid-231024\\x94\\x8c\\x12site_number_offset\\x94K\\xceuua}\\x94(h\\x0e}\\x94\\x8c\\x05tiles\\x94K\\x00N\\x86\\x94sh\\x10]\\x94(h\\x12h\\x13eh\\x12h\\x16h\\x18\\x85\\x94R\\x94(h\\x18)}\\x94h\\x1ch\\x12sNt\\x94bh\\x13h\\x16h\\x18\\x85\\x94R\\x94(h\\x18)}\\x94h\\x1ch\\x13sNt\\x94bhMh;ub\\x8c\\twildcards\\x94h\\x06\\x8c\\tWildcards\\x94\\x93\\x94)\\x81\\x94}\\x94(h\\x0e}\\x94h\\x10]\\x94(h\\x12h\\x13eh\\x12h\\x16h\\x18\\x85\\x94R\\x94(h\\x18)}\\x94h\\x1ch\\x12sNt\\x94bh\\x13h\\x16h\\x18\\x85\\x94R\\x94(h\\x18)}\\x94h\\x1ch\\x13sNt\\x94bub\\x8c\\x07threads\\x94K\\x01\\x8c\\tresources\\x94h\\x06\\x8c\\tResources\\x94\\x93\\x94)\\x81\\x94(K\\x01K\\x01\\x8c\\x15/loc/scratch/54435566\\x94e}\\x94(h\\x0e}\\x94(\\x8c\\x06_cores\\x94K\\x00N\\x86\\x94\\x8c\\x06_nodes\\x94K\\x01N\\x86\\x94\\x8c\\x06tmpdir\\x94K\\x02N\\x86\\x94uh\\x10]\\x94(h\\x12h\\x13eh\\x12h\\x16h\\x18\\x85\\x94R\\x94(h\\x18)}\\x94h\\x1ch\\x12sNt\\x94bh\\x13h\\x16h\\x18\\x85\\x94R\\x94(h\\x18)}\\x94h\\x1ch\\x13sNt\\x94bhoK\\x01hqK\\x01hshlub\\x8c\\x03log\\x94h\\x06\\x8c\\x03Log\\x94\\x93\\x94)\\x81\\x94\\x8c)results/notebooks/combine_all_tiles.ipynb\\x94a}\\x94(h\\x0e}\\x94\\x8c\\x08notebook\\x94K\\x00N\\x86\\x94sh\\x10]\\x94(h\\x12h\\x13eh\\x12h\\x16h\\x18\\x85\\x94R\\x94(h\\x18)}\\x94h\\x1ch\\x12sNt\\x94bh\\x13h\\x16h\\x18\\x85\\x94R\\x94(h\\x18)}\\x94h\\x1ch\\x13sNt\\x94bh\\x85h\\x82ub\\x8c\\x06config\\x94}\\x94(\\x8c\\x08max_cpus\\x94KH\\x8c\\x05tiles\\x94h;u\\x8c\\x04rule\\x94\\x8c\\x0ejoin_all_tiles\\x94\\x8c\\x0fbench_iteration\\x94N\\x8c\\tscriptdir\\x94\\x8cK/fh/fast/bloom_j/computational_notebooks/whannon/2024/ZIKV_DMS_NS3_EvansLab\\x94ub.\"); from snakemake.logging import logger; logger.printshellcmds = False; import os; os.chdir(r'/fh/fast/bloom_j/computational_notebooks/whannon/2024/ZIKV_DMS_NS3_EvansLab');\n",
    "######## snakemake preamble end #########\n"
   ]
  },
  {
   "cell_type": "markdown",
   "metadata": {},
   "source": [
    "# Combine all tiles\n",
    "\n",
    "The NS2B/NS3 library was mutagenized in three roughly equal length tiles. We analyzed each tile separately using [`dms_tools2`](https://jbloomlab.github.io/dms_tools2/index.html). In this notebook, we join the resulting data files together."
   ]
  },
  {
   "cell_type": "code",
   "execution_count": 2,
   "metadata": {
    "execution": {
     "iopub.execute_input": "2024-07-19T22:56:27.751176Z",
     "iopub.status.busy": "2024-07-19T22:56:27.750749Z",
     "iopub.status.idle": "2024-07-19T22:56:30.278515Z",
     "shell.execute_reply": "2024-07-19T22:56:30.277525Z"
    }
   },
   "outputs": [],
   "source": [
    "import os\n",
    "import pandas as pd"
   ]
  },
  {
   "cell_type": "code",
   "execution_count": 3,
   "metadata": {
    "execution": {
     "iopub.execute_input": "2024-07-19T22:56:30.284142Z",
     "iopub.status.busy": "2024-07-19T22:56:30.283576Z",
     "iopub.status.idle": "2024-07-19T22:56:30.289213Z",
     "shell.execute_reply": "2024-07-19T22:56:30.287951Z"
    }
   },
   "outputs": [],
   "source": [
    "tiles = snakemake.params.tiles\n",
    "without_stops_csv = snakemake.output.without_stops_csv\n",
    "with_stops_csv = snakemake.output.with_stops_csv"
   ]
  },
  {
   "cell_type": "markdown",
   "metadata": {},
   "source": [
    "## Mutation effects without stop codons\n",
    "\n",
    "Combine all of the mutation effects from each tiles."
   ]
  },
  {
   "cell_type": "code",
   "execution_count": 4,
   "metadata": {
    "execution": {
     "iopub.execute_input": "2024-07-19T22:56:30.293230Z",
     "iopub.status.busy": "2024-07-19T22:56:30.292728Z",
     "iopub.status.idle": "2024-07-19T22:56:30.334096Z",
     "shell.execute_reply": "2024-07-19T22:56:30.333506Z"
    }
   },
   "outputs": [
    {
     "data": {
      "text/html": [
       "<div>\n",
       "<style scoped>\n",
       "    .dataframe tbody tr th:only-of-type {\n",
       "        vertical-align: middle;\n",
       "    }\n",
       "\n",
       "    .dataframe tbody tr th {\n",
       "        vertical-align: top;\n",
       "    }\n",
       "\n",
       "    .dataframe thead th {\n",
       "        text-align: right;\n",
       "    }\n",
       "</style>\n",
       "<table border=\"1\" class=\"dataframe\">\n",
       "  <thead>\n",
       "    <tr style=\"text-align: right;\">\n",
       "      <th></th>\n",
       "      <th>site</th>\n",
       "      <th>wildtype</th>\n",
       "      <th>mutant</th>\n",
       "      <th>mutation</th>\n",
       "      <th>effect</th>\n",
       "      <th>log2effect</th>\n",
       "      <th>tile</th>\n",
       "    </tr>\n",
       "  </thead>\n",
       "  <tbody>\n",
       "    <tr>\n",
       "      <th>0</th>\n",
       "      <td>1</td>\n",
       "      <td>R</td>\n",
       "      <td>A</td>\n",
       "      <td>R1A</td>\n",
       "      <td>0.003142</td>\n",
       "      <td>-8.3143</td>\n",
       "      <td>tile_1</td>\n",
       "    </tr>\n",
       "    <tr>\n",
       "      <th>1</th>\n",
       "      <td>1</td>\n",
       "      <td>R</td>\n",
       "      <td>C</td>\n",
       "      <td>R1C</td>\n",
       "      <td>0.007931</td>\n",
       "      <td>-6.9783</td>\n",
       "      <td>tile_1</td>\n",
       "    </tr>\n",
       "    <tr>\n",
       "      <th>2</th>\n",
       "      <td>1</td>\n",
       "      <td>R</td>\n",
       "      <td>D</td>\n",
       "      <td>R1D</td>\n",
       "      <td>0.008227</td>\n",
       "      <td>-6.9253</td>\n",
       "      <td>tile_1</td>\n",
       "    </tr>\n",
       "    <tr>\n",
       "      <th>3</th>\n",
       "      <td>1</td>\n",
       "      <td>R</td>\n",
       "      <td>E</td>\n",
       "      <td>R1E</td>\n",
       "      <td>0.004469</td>\n",
       "      <td>-7.8057</td>\n",
       "      <td>tile_1</td>\n",
       "    </tr>\n",
       "    <tr>\n",
       "      <th>4</th>\n",
       "      <td>1</td>\n",
       "      <td>R</td>\n",
       "      <td>F</td>\n",
       "      <td>R1F</td>\n",
       "      <td>0.009128</td>\n",
       "      <td>-6.7754</td>\n",
       "      <td>tile_1</td>\n",
       "    </tr>\n",
       "  </tbody>\n",
       "</table>\n",
       "</div>"
      ],
      "text/plain": [
       "   site wildtype mutant mutation    effect  log2effect    tile\n",
       "0     1        R      A      R1A  0.003142     -8.3143  tile_1\n",
       "1     1        R      C      R1C  0.007931     -6.9783  tile_1\n",
       "2     1        R      D      R1D  0.008227     -6.9253  tile_1\n",
       "3     1        R      E      R1E  0.004469     -7.8057  tile_1\n",
       "4     1        R      F      R1F  0.009128     -6.7754  tile_1"
      ]
     },
     "execution_count": 4,
     "metadata": {},
     "output_type": "execute_result"
    }
   ],
   "source": [
    "muteffects_paths = {tile: os.path.join(\"results\", tile, 'muteffects', 'virus_muteffects.csv') for tile in tiles}\n",
    "muteffects_dfs = []\n",
    "for tile, path in muteffects_paths.items():\n",
    "    df = pd.read_csv(path)\n",
    "    df['tile'] = tile\n",
    "    muteffects_dfs.append(df)\n",
    "muteffects_df = pd.concat(muteffects_dfs)\n",
    "muteffects_df.head()"
   ]
  },
  {
   "cell_type": "markdown",
   "metadata": {},
   "source": [
    "## Mutation Preferences without stop codons\n",
    "\n",
    "Combine the average mutation preferences from each tile."
   ]
  },
  {
   "cell_type": "code",
   "execution_count": 5,
   "metadata": {
    "execution": {
     "iopub.execute_input": "2024-07-19T22:56:30.380552Z",
     "iopub.status.busy": "2024-07-19T22:56:30.379987Z",
     "iopub.status.idle": "2024-07-19T22:56:30.422778Z",
     "shell.execute_reply": "2024-07-19T22:56:30.422164Z"
    }
   },
   "outputs": [
    {
     "data": {
      "text/html": [
       "<div>\n",
       "<style scoped>\n",
       "    .dataframe tbody tr th:only-of-type {\n",
       "        vertical-align: middle;\n",
       "    }\n",
       "\n",
       "    .dataframe tbody tr th {\n",
       "        vertical-align: top;\n",
       "    }\n",
       "\n",
       "    .dataframe thead th {\n",
       "        text-align: right;\n",
       "    }\n",
       "</style>\n",
       "<table border=\"1\" class=\"dataframe\">\n",
       "  <thead>\n",
       "    <tr style=\"text-align: right;\">\n",
       "      <th></th>\n",
       "      <th>site</th>\n",
       "      <th>mutant</th>\n",
       "      <th>preference</th>\n",
       "      <th>tile</th>\n",
       "    </tr>\n",
       "  </thead>\n",
       "  <tbody>\n",
       "    <tr>\n",
       "      <th>0</th>\n",
       "      <td>1</td>\n",
       "      <td>A</td>\n",
       "      <td>0.00265</td>\n",
       "      <td>tile_1</td>\n",
       "    </tr>\n",
       "    <tr>\n",
       "      <th>1</th>\n",
       "      <td>1</td>\n",
       "      <td>C</td>\n",
       "      <td>0.00669</td>\n",
       "      <td>tile_1</td>\n",
       "    </tr>\n",
       "    <tr>\n",
       "      <th>2</th>\n",
       "      <td>1</td>\n",
       "      <td>D</td>\n",
       "      <td>0.00694</td>\n",
       "      <td>tile_1</td>\n",
       "    </tr>\n",
       "    <tr>\n",
       "      <th>3</th>\n",
       "      <td>1</td>\n",
       "      <td>E</td>\n",
       "      <td>0.00377</td>\n",
       "      <td>tile_1</td>\n",
       "    </tr>\n",
       "    <tr>\n",
       "      <th>4</th>\n",
       "      <td>1</td>\n",
       "      <td>F</td>\n",
       "      <td>0.00770</td>\n",
       "      <td>tile_1</td>\n",
       "    </tr>\n",
       "  </tbody>\n",
       "</table>\n",
       "</div>"
      ],
      "text/plain": [
       "   site mutant  preference    tile\n",
       "0     1      A     0.00265  tile_1\n",
       "1     1      C     0.00669  tile_1\n",
       "2     1      D     0.00694  tile_1\n",
       "3     1      E     0.00377  tile_1\n",
       "4     1      F     0.00770  tile_1"
      ]
     },
     "execution_count": 5,
     "metadata": {},
     "output_type": "execute_result"
    }
   ],
   "source": [
    "preferences_paths = {tile: os.path.join(\"results\", tile, 'prefs', 'prefs_virus.csv') for tile in tiles}\n",
    "preferences_dfs = []\n",
    "for tile, path in preferences_paths.items():\n",
    "    df = pd.read_csv(path)\n",
    "    df_melted = (\n",
    "        df \n",
    "            .melt(id_vars=['site'], var_name='mutant', value_name='preference')\n",
    "            .sort_values(by=['site', 'mutant'], ascending=[True, True])\n",
    "            .reset_index(drop=True)\n",
    "    )\n",
    "    df_melted['tile'] = tile\n",
    "    preferences_dfs.append(df_melted)\n",
    "\n",
    "preferences_df = pd.concat(preferences_dfs)\n",
    "preferences_df.head()"
   ]
  },
  {
   "cell_type": "markdown",
   "metadata": {},
   "source": [
    "## Merged effects and preferences without stop codons\n",
    "\n",
    "We'll merge the effects and preferences for each tile and mutation into a single file. We'll also add information about whether a site is in NS2B or NS3."
   ]
  },
  {
   "cell_type": "code",
   "execution_count": 6,
   "metadata": {
    "execution": {
     "iopub.execute_input": "2024-07-19T22:56:30.428377Z",
     "iopub.status.busy": "2024-07-19T22:56:30.428054Z",
     "iopub.status.idle": "2024-07-19T22:56:30.438734Z",
     "shell.execute_reply": "2024-07-19T22:56:30.438038Z"
    }
   },
   "outputs": [],
   "source": [
    "effects_and_preferences_df = pd.merge(muteffects_df, preferences_df, on=['site', 'mutant', 'tile'])\n",
    "assert(effects_and_preferences_df.shape[0] == muteffects_df.shape[0])\n",
    "assert(effects_and_preferences_df.shape[0] == preferences_df.shape[0])"
   ]
  },
  {
   "cell_type": "code",
   "execution_count": 7,
   "metadata": {
    "execution": {
     "iopub.execute_input": "2024-07-19T22:56:30.442611Z",
     "iopub.status.busy": "2024-07-19T22:56:30.442241Z",
     "iopub.status.idle": "2024-07-19T22:56:30.456918Z",
     "shell.execute_reply": "2024-07-19T22:56:30.456150Z"
    }
   },
   "outputs": [
    {
     "data": {
      "text/html": [
       "<div>\n",
       "<style scoped>\n",
       "    .dataframe tbody tr th:only-of-type {\n",
       "        vertical-align: middle;\n",
       "    }\n",
       "\n",
       "    .dataframe tbody tr th {\n",
       "        vertical-align: top;\n",
       "    }\n",
       "\n",
       "    .dataframe thead th {\n",
       "        text-align: right;\n",
       "    }\n",
       "</style>\n",
       "<table border=\"1\" class=\"dataframe\">\n",
       "  <thead>\n",
       "    <tr style=\"text-align: right;\">\n",
       "      <th></th>\n",
       "      <th>reference_site</th>\n",
       "      <th>sequential_site</th>\n",
       "      <th>protein_site</th>\n",
       "      <th>protein</th>\n",
       "    </tr>\n",
       "  </thead>\n",
       "  <tbody>\n",
       "    <tr>\n",
       "      <th>0</th>\n",
       "      <td>(NS2B) 0</td>\n",
       "      <td>1</td>\n",
       "      <td>0</td>\n",
       "      <td>NS2B</td>\n",
       "    </tr>\n",
       "    <tr>\n",
       "      <th>1</th>\n",
       "      <td>(NS2B) 1</td>\n",
       "      <td>2</td>\n",
       "      <td>1</td>\n",
       "      <td>NS2B</td>\n",
       "    </tr>\n",
       "    <tr>\n",
       "      <th>2</th>\n",
       "      <td>(NS2B) 2</td>\n",
       "      <td>3</td>\n",
       "      <td>2</td>\n",
       "      <td>NS2B</td>\n",
       "    </tr>\n",
       "    <tr>\n",
       "      <th>3</th>\n",
       "      <td>(NS2B) 3</td>\n",
       "      <td>4</td>\n",
       "      <td>3</td>\n",
       "      <td>NS2B</td>\n",
       "    </tr>\n",
       "    <tr>\n",
       "      <th>4</th>\n",
       "      <td>(NS2B) 4</td>\n",
       "      <td>5</td>\n",
       "      <td>4</td>\n",
       "      <td>NS2B</td>\n",
       "    </tr>\n",
       "  </tbody>\n",
       "</table>\n",
       "</div>"
      ],
      "text/plain": [
       "  reference_site  sequential_site  protein_site protein\n",
       "0       (NS2B) 0                1             0    NS2B\n",
       "1       (NS2B) 1                2             1    NS2B\n",
       "2       (NS2B) 2                3             2    NS2B\n",
       "3       (NS2B) 3                4             3    NS2B\n",
       "4       (NS2B) 4                5             4    NS2B"
      ]
     },
     "execution_count": 7,
     "metadata": {},
     "output_type": "execute_result"
    }
   ],
   "source": [
    "sitemap = pd.read_csv('data/sitemap.csv')\n",
    "sitemap.head()"
   ]
  },
  {
   "cell_type": "code",
   "execution_count": 8,
   "metadata": {
    "execution": {
     "iopub.execute_input": "2024-07-19T22:56:30.460936Z",
     "iopub.status.busy": "2024-07-19T22:56:30.460506Z",
     "iopub.status.idle": "2024-07-19T22:56:30.484807Z",
     "shell.execute_reply": "2024-07-19T22:56:30.484146Z"
    }
   },
   "outputs": [
    {
     "data": {
      "text/html": [
       "<div>\n",
       "<style scoped>\n",
       "    .dataframe tbody tr th:only-of-type {\n",
       "        vertical-align: middle;\n",
       "    }\n",
       "\n",
       "    .dataframe tbody tr th {\n",
       "        vertical-align: top;\n",
       "    }\n",
       "\n",
       "    .dataframe thead th {\n",
       "        text-align: right;\n",
       "    }\n",
       "</style>\n",
       "<table border=\"1\" class=\"dataframe\">\n",
       "  <thead>\n",
       "    <tr style=\"text-align: right;\">\n",
       "      <th></th>\n",
       "      <th>site</th>\n",
       "      <th>wildtype</th>\n",
       "      <th>mutant</th>\n",
       "      <th>mutation</th>\n",
       "      <th>effect</th>\n",
       "      <th>log2effect</th>\n",
       "      <th>tile</th>\n",
       "      <th>preference</th>\n",
       "      <th>reference_site</th>\n",
       "      <th>sequential_site</th>\n",
       "      <th>protein_site</th>\n",
       "      <th>protein</th>\n",
       "    </tr>\n",
       "  </thead>\n",
       "  <tbody>\n",
       "    <tr>\n",
       "      <th>0</th>\n",
       "      <td>1</td>\n",
       "      <td>R</td>\n",
       "      <td>A</td>\n",
       "      <td>R1A</td>\n",
       "      <td>0.003142</td>\n",
       "      <td>-8.3143</td>\n",
       "      <td>tile_1</td>\n",
       "      <td>0.00265</td>\n",
       "      <td>(NS2B) 0</td>\n",
       "      <td>1</td>\n",
       "      <td>0</td>\n",
       "      <td>NS2B</td>\n",
       "    </tr>\n",
       "    <tr>\n",
       "      <th>1</th>\n",
       "      <td>1</td>\n",
       "      <td>R</td>\n",
       "      <td>C</td>\n",
       "      <td>R1C</td>\n",
       "      <td>0.007931</td>\n",
       "      <td>-6.9783</td>\n",
       "      <td>tile_1</td>\n",
       "      <td>0.00669</td>\n",
       "      <td>(NS2B) 0</td>\n",
       "      <td>1</td>\n",
       "      <td>0</td>\n",
       "      <td>NS2B</td>\n",
       "    </tr>\n",
       "    <tr>\n",
       "      <th>2</th>\n",
       "      <td>1</td>\n",
       "      <td>R</td>\n",
       "      <td>D</td>\n",
       "      <td>R1D</td>\n",
       "      <td>0.008227</td>\n",
       "      <td>-6.9253</td>\n",
       "      <td>tile_1</td>\n",
       "      <td>0.00694</td>\n",
       "      <td>(NS2B) 0</td>\n",
       "      <td>1</td>\n",
       "      <td>0</td>\n",
       "      <td>NS2B</td>\n",
       "    </tr>\n",
       "    <tr>\n",
       "      <th>3</th>\n",
       "      <td>1</td>\n",
       "      <td>R</td>\n",
       "      <td>E</td>\n",
       "      <td>R1E</td>\n",
       "      <td>0.004469</td>\n",
       "      <td>-7.8057</td>\n",
       "      <td>tile_1</td>\n",
       "      <td>0.00377</td>\n",
       "      <td>(NS2B) 0</td>\n",
       "      <td>1</td>\n",
       "      <td>0</td>\n",
       "      <td>NS2B</td>\n",
       "    </tr>\n",
       "    <tr>\n",
       "      <th>4</th>\n",
       "      <td>1</td>\n",
       "      <td>R</td>\n",
       "      <td>F</td>\n",
       "      <td>R1F</td>\n",
       "      <td>0.009128</td>\n",
       "      <td>-6.7754</td>\n",
       "      <td>tile_1</td>\n",
       "      <td>0.00770</td>\n",
       "      <td>(NS2B) 0</td>\n",
       "      <td>1</td>\n",
       "      <td>0</td>\n",
       "      <td>NS2B</td>\n",
       "    </tr>\n",
       "  </tbody>\n",
       "</table>\n",
       "</div>"
      ],
      "text/plain": [
       "   site wildtype mutant mutation    effect  log2effect    tile  preference  \\\n",
       "0     1        R      A      R1A  0.003142     -8.3143  tile_1     0.00265   \n",
       "1     1        R      C      R1C  0.007931     -6.9783  tile_1     0.00669   \n",
       "2     1        R      D      R1D  0.008227     -6.9253  tile_1     0.00694   \n",
       "3     1        R      E      R1E  0.004469     -7.8057  tile_1     0.00377   \n",
       "4     1        R      F      R1F  0.009128     -6.7754  tile_1     0.00770   \n",
       "\n",
       "  reference_site  sequential_site  protein_site protein  \n",
       "0       (NS2B) 0                1             0    NS2B  \n",
       "1       (NS2B) 0                1             0    NS2B  \n",
       "2       (NS2B) 0                1             0    NS2B  \n",
       "3       (NS2B) 0                1             0    NS2B  \n",
       "4       (NS2B) 0                1             0    NS2B  "
      ]
     },
     "execution_count": 8,
     "metadata": {},
     "output_type": "execute_result"
    }
   ],
   "source": [
    "sitemap_effects_and_preferences_df = pd.merge(effects_and_preferences_df, sitemap, left_on='site', right_on='sequential_site', how='left')\n",
    "sitemap_effects_and_preferences_df.head()"
   ]
  },
  {
   "cell_type": "code",
   "execution_count": 9,
   "metadata": {
    "execution": {
     "iopub.execute_input": "2024-07-19T22:56:30.488375Z",
     "iopub.status.busy": "2024-07-19T22:56:30.488054Z",
     "iopub.status.idle": "2024-07-19T22:56:30.563346Z",
     "shell.execute_reply": "2024-07-19T22:56:30.562597Z"
    }
   },
   "outputs": [],
   "source": [
    "sitemap_effects_and_preferences_df.to_csv(without_stops_csv, index=False)"
   ]
  },
  {
   "cell_type": "markdown",
   "metadata": {},
   "source": [
    "## Mutation effects **with** stop codons\n",
    "\n",
    "Combine all of the mutation effects from each tiles."
   ]
  },
  {
   "cell_type": "code",
   "execution_count": 10,
   "metadata": {
    "execution": {
     "iopub.execute_input": "2024-07-19T22:56:30.568567Z",
     "iopub.status.busy": "2024-07-19T22:56:30.568165Z",
     "iopub.status.idle": "2024-07-19T22:56:30.604019Z",
     "shell.execute_reply": "2024-07-19T22:56:30.602731Z"
    }
   },
   "outputs": [
    {
     "data": {
      "text/html": [
       "<div>\n",
       "<style scoped>\n",
       "    .dataframe tbody tr th:only-of-type {\n",
       "        vertical-align: middle;\n",
       "    }\n",
       "\n",
       "    .dataframe tbody tr th {\n",
       "        vertical-align: top;\n",
       "    }\n",
       "\n",
       "    .dataframe thead th {\n",
       "        text-align: right;\n",
       "    }\n",
       "</style>\n",
       "<table border=\"1\" class=\"dataframe\">\n",
       "  <thead>\n",
       "    <tr style=\"text-align: right;\">\n",
       "      <th></th>\n",
       "      <th>site</th>\n",
       "      <th>wildtype</th>\n",
       "      <th>mutant</th>\n",
       "      <th>mutation</th>\n",
       "      <th>effect</th>\n",
       "      <th>log2effect</th>\n",
       "      <th>tile</th>\n",
       "    </tr>\n",
       "  </thead>\n",
       "  <tbody>\n",
       "    <tr>\n",
       "      <th>0</th>\n",
       "      <td>1</td>\n",
       "      <td>R</td>\n",
       "      <td>*</td>\n",
       "      <td>R1*</td>\n",
       "      <td>0.001401</td>\n",
       "      <td>-9.4799</td>\n",
       "      <td>tile_1</td>\n",
       "    </tr>\n",
       "    <tr>\n",
       "      <th>1</th>\n",
       "      <td>1</td>\n",
       "      <td>R</td>\n",
       "      <td>A</td>\n",
       "      <td>R1A</td>\n",
       "      <td>0.003133</td>\n",
       "      <td>-8.3181</td>\n",
       "      <td>tile_1</td>\n",
       "    </tr>\n",
       "    <tr>\n",
       "      <th>2</th>\n",
       "      <td>1</td>\n",
       "      <td>R</td>\n",
       "      <td>C</td>\n",
       "      <td>R1C</td>\n",
       "      <td>0.007928</td>\n",
       "      <td>-6.9788</td>\n",
       "      <td>tile_1</td>\n",
       "    </tr>\n",
       "    <tr>\n",
       "      <th>3</th>\n",
       "      <td>1</td>\n",
       "      <td>R</td>\n",
       "      <td>D</td>\n",
       "      <td>R1D</td>\n",
       "      <td>0.008225</td>\n",
       "      <td>-6.9258</td>\n",
       "      <td>tile_1</td>\n",
       "    </tr>\n",
       "    <tr>\n",
       "      <th>4</th>\n",
       "      <td>1</td>\n",
       "      <td>R</td>\n",
       "      <td>E</td>\n",
       "      <td>R1E</td>\n",
       "      <td>0.004463</td>\n",
       "      <td>-7.8079</td>\n",
       "      <td>tile_1</td>\n",
       "    </tr>\n",
       "  </tbody>\n",
       "</table>\n",
       "</div>"
      ],
      "text/plain": [
       "   site wildtype mutant mutation    effect  log2effect    tile\n",
       "0     1        R      *      R1*  0.001401     -9.4799  tile_1\n",
       "1     1        R      A      R1A  0.003133     -8.3181  tile_1\n",
       "2     1        R      C      R1C  0.007928     -6.9788  tile_1\n",
       "3     1        R      D      R1D  0.008225     -6.9258  tile_1\n",
       "4     1        R      E      R1E  0.004463     -7.8079  tile_1"
      ]
     },
     "execution_count": 10,
     "metadata": {},
     "output_type": "execute_result"
    }
   ],
   "source": [
    "muteffects_with_stops_paths = {tile: os.path.join(\"results\", tile, 'muteffects_withStops', 'virus_muteffects.csv') for tile in tiles}\n",
    "muteffects_with_stops_dfs = []\n",
    "for tile, path in muteffects_with_stops_paths.items():\n",
    "    df = pd.read_csv(path)\n",
    "    df['tile'] = tile\n",
    "    muteffects_with_stops_dfs.append(df)\n",
    "muteffects_with_stops_df = pd.concat(muteffects_with_stops_dfs)\n",
    "muteffects_with_stops_df.head()"
   ]
  },
  {
   "cell_type": "markdown",
   "metadata": {},
   "source": [
    "## Mutation Preferences **with** stop codons\n",
    "\n",
    "Combine the average mutation preferences from each tile."
   ]
  },
  {
   "cell_type": "code",
   "execution_count": 11,
   "metadata": {
    "execution": {
     "iopub.execute_input": "2024-07-19T22:56:30.608239Z",
     "iopub.status.busy": "2024-07-19T22:56:30.607404Z",
     "iopub.status.idle": "2024-07-19T22:56:30.647204Z",
     "shell.execute_reply": "2024-07-19T22:56:30.646619Z"
    }
   },
   "outputs": [
    {
     "data": {
      "text/html": [
       "<div>\n",
       "<style scoped>\n",
       "    .dataframe tbody tr th:only-of-type {\n",
       "        vertical-align: middle;\n",
       "    }\n",
       "\n",
       "    .dataframe tbody tr th {\n",
       "        vertical-align: top;\n",
       "    }\n",
       "\n",
       "    .dataframe thead th {\n",
       "        text-align: right;\n",
       "    }\n",
       "</style>\n",
       "<table border=\"1\" class=\"dataframe\">\n",
       "  <thead>\n",
       "    <tr style=\"text-align: right;\">\n",
       "      <th></th>\n",
       "      <th>site</th>\n",
       "      <th>mutant</th>\n",
       "      <th>preference</th>\n",
       "      <th>tile</th>\n",
       "    </tr>\n",
       "  </thead>\n",
       "  <tbody>\n",
       "    <tr>\n",
       "      <th>0</th>\n",
       "      <td>1</td>\n",
       "      <td>*</td>\n",
       "      <td>0.00118</td>\n",
       "      <td>tile_1</td>\n",
       "    </tr>\n",
       "    <tr>\n",
       "      <th>1</th>\n",
       "      <td>1</td>\n",
       "      <td>A</td>\n",
       "      <td>0.00264</td>\n",
       "      <td>tile_1</td>\n",
       "    </tr>\n",
       "    <tr>\n",
       "      <th>2</th>\n",
       "      <td>1</td>\n",
       "      <td>C</td>\n",
       "      <td>0.00668</td>\n",
       "      <td>tile_1</td>\n",
       "    </tr>\n",
       "    <tr>\n",
       "      <th>3</th>\n",
       "      <td>1</td>\n",
       "      <td>D</td>\n",
       "      <td>0.00693</td>\n",
       "      <td>tile_1</td>\n",
       "    </tr>\n",
       "    <tr>\n",
       "      <th>4</th>\n",
       "      <td>1</td>\n",
       "      <td>E</td>\n",
       "      <td>0.00376</td>\n",
       "      <td>tile_1</td>\n",
       "    </tr>\n",
       "  </tbody>\n",
       "</table>\n",
       "</div>"
      ],
      "text/plain": [
       "   site mutant  preference    tile\n",
       "0     1      *     0.00118  tile_1\n",
       "1     1      A     0.00264  tile_1\n",
       "2     1      C     0.00668  tile_1\n",
       "3     1      D     0.00693  tile_1\n",
       "4     1      E     0.00376  tile_1"
      ]
     },
     "execution_count": 11,
     "metadata": {},
     "output_type": "execute_result"
    }
   ],
   "source": [
    "preferences_with_stops_paths = {tile: os.path.join(\"results\", tile, 'prefs_withStops', 'prefs_virus.csv') for tile in tiles}\n",
    "preferences_with_stops_dfs = []\n",
    "for tile, path in preferences_with_stops_paths.items():\n",
    "    df = pd.read_csv(path)\n",
    "    df_melted = (\n",
    "        df \n",
    "            .melt(id_vars=['site'], var_name='mutant', value_name='preference')\n",
    "            .sort_values(by=['site', 'mutant'], ascending=[True, True])\n",
    "            .reset_index(drop=True)\n",
    "    )\n",
    "    df_melted['tile'] = tile\n",
    "    preferences_with_stops_dfs.append(df_melted)\n",
    "\n",
    "preferences_with_stops_df = pd.concat(preferences_with_stops_dfs)\n",
    "preferences_with_stops_df.head()"
   ]
  },
  {
   "cell_type": "markdown",
   "metadata": {},
   "source": [
    "## Merged effects and preferences without stop codons\n",
    "\n",
    "We'll merge the effects and preferences for each tile and mutation into a single file. We'll also add information about whether a site is in NS2B or NS3."
   ]
  },
  {
   "cell_type": "code",
   "execution_count": 12,
   "metadata": {
    "execution": {
     "iopub.execute_input": "2024-07-19T22:56:30.651997Z",
     "iopub.status.busy": "2024-07-19T22:56:30.651518Z",
     "iopub.status.idle": "2024-07-19T22:56:30.721087Z",
     "shell.execute_reply": "2024-07-19T22:56:30.720345Z"
    }
   },
   "outputs": [],
   "source": [
    "# Merge effects and preferences\n",
    "effects_and_preferences_with_stops_df = pd.merge(muteffects_with_stops_df, preferences_with_stops_df, on=['site', 'mutant', 'tile'])\n",
    "assert(effects_and_preferences_with_stops_df.shape[0] == muteffects_with_stops_df.shape[0])\n",
    "assert(effects_and_preferences_with_stops_df.shape[0] == preferences_with_stops_df.shape[0])\n",
    "\n",
    "# Write out effects and preferences with sitemap\n",
    "sitemap_effects_and_preferences_with_stops_df = pd.merge(effects_and_preferences_with_stops_df, sitemap, left_on='site', right_on='sequential_site', how='left')\n",
    "sitemap_effects_and_preferences_with_stops_df.to_csv(with_stops_csv, index=False)"
   ]
  }
 ],
 "metadata": {
  "kernelspec": {
   "display_name": "ZIKV_DMS_NS3_EvansLab",
   "language": "python",
   "name": "python3"
  },
  "language_info": {
   "codemirror_mode": {
    "name": "ipython",
    "version": 3
   },
   "file_extension": ".py",
   "mimetype": "text/x-python",
   "name": "python",
   "nbconvert_exporter": "python",
   "pygments_lexer": "ipython3",
   "version": "3.8.19"
  }
 },
 "nbformat": 4,
 "nbformat_minor": 2
}
