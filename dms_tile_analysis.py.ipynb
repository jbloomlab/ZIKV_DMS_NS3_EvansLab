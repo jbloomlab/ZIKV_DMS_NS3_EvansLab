{
 "cells": [
  {
   "cell_type": "markdown",
   "metadata": {},
   "source": [
    "### Deep mutational scanning of ZIKV E protein NS3\n",
    "These mutagenized libraries are generated in 'tiles' and are based on a Zika virus African-lineage MR766 strain.\n",
    "Experiments performed by Blake Richardson and Matt Evans.\n",
    "Analysis by Caroline Kikawa, David Bacsik and [Jesse Bloom](https://research.fhcrc.org/bloom/en.html).\n",
    "\n",
    "## Set up for analysis\n",
    "Import Python packages and modules:"
   ]
  },
  {
   "cell_type": "code",
   "execution_count": null,
   "metadata": {
    "tags": []
   },
   "outputs": [],
   "source": [
    "import glob\n",
    "import os\n",
    "import subprocess\n",
    "import shutil\n",
    "\n",
    "import Bio.SeqIO\n",
    "\n",
    "import dms_tools2\n",
    "from dms_tools2 import AAS\n",
    "from dms_tools2.ipython_utils import showPDF\n",
    "from dms_tools2.plot import COLOR_BLIND_PALETTE_GRAY as CBPALETTE\n",
    "import dms_tools2.prefs\n",
    "import dms_tools2.utils\n",
    "print(f\"Using dms_tools2 {dms_tools2.__version__}\")\n",
    "\n",
    "from IPython.display import display, HTML\n",
    "\n",
    "import pandas as pd\n",
    "\n",
    "# import altair as alt\n",
    "from plotnine import *\n",
    "\n",
    "# import numpy\n",
    "\n",
    "import dms_variants.plotnine_themes"
   ]
  },
  {
   "cell_type": "markdown",
   "metadata": {},
   "source": [
    "Get variables from `snakemake`:"
   ]
  },
  {
   "cell_type": "code",
   "execution_count": null,
   "metadata": {
    "tags": []
   },
   "outputs": [],
   "source": [
    "ncpus = snakemake.threads\n",
    "refseqfile = snakemake.input.amplicon\n",
    "samplelist = snakemake.input.samplelist\n",
    "alignspecsfile = snakemake.input.alignspecs\n",
    "resultsdir = snakemake.output.resultsdir\n",
    "errpre = snakemake.params.errpre\n",
    "site_number_offset = snakemake.params.site_number_offset"
   ]
  },
  {
   "cell_type": "markdown",
   "metadata": {},
   "source": [
    "Some additional configuration for analysis:"
   ]
  },
  {
   "cell_type": "code",
   "execution_count": null,
   "metadata": {},
   "outputs": [],
   "source": [
    "use_existing = 'no' # use existing output\n",
    "\n",
    "os.makedirs(resultsdir, exist_ok=True)"
   ]
  },
  {
   "cell_type": "markdown",
   "metadata": {},
   "source": [
    "Read in the wildtype (reference) sequence and its protein translation:"
   ]
  },
  {
   "cell_type": "code",
   "execution_count": null,
   "metadata": {
    "tags": []
   },
   "outputs": [],
   "source": [
    "refseqrecord = Bio.SeqIO.read(refseqfile, 'fasta')\n",
    "refprot = str(refseqrecord.seq.translate())\n",
    "refseq = str(refseqrecord.seq)\n",
    "\n",
    "print(f\"Read reference sequence of {len(refseq)} nucleotides from {refseqfile} \"\n",
    "      f\"that translates to protein of {len(refprot)} amino acids.\")"
   ]
  },
  {
   "cell_type": "markdown",
   "metadata": {},
   "source": [
    "## Process deep sequencing data\n",
    "We process the data from the [barcoded subamplicon deep sequencing](https://jbloomlab.github.io/dms_tools2/bcsubamp.html) to count the frequency of each codon in each sample.\n",
    "\n",
    "First, we read in the samples:"
   ]
  },
  {
   "cell_type": "code",
   "execution_count": null,
   "metadata": {
    "tags": []
   },
   "outputs": [],
   "source": [
    "samples = (pd.read_csv(samplelist)\n",
    "           .assign(name=lambda x: x.library + '-' + x.selection + '-' + x.date.astype(str))\n",
    "           )\n",
    "\n",
    "display(HTML(samples.to_html(index=False)))"
   ]
  },
  {
   "cell_type": "markdown",
   "metadata": {},
   "source": [
    "Now we read in the alignment specs for the [barcoded subamplicon sequencing](https://jbloomlab.github.io/dms_tools2/bcsubamp.html):"
   ]
  },
  {
   "cell_type": "code",
   "execution_count": null,
   "metadata": {},
   "outputs": [],
   "source": [
    "with open(alignspecsfile) as f:\n",
    "    alignspecs = f.read().strip()\n",
    "print(alignspecs)"
   ]
  },
  {
   "cell_type": "markdown",
   "metadata": {},
   "source": [
    "Now we use the [dms2_batch_bcsubamp](https://jbloomlab.github.io/dms_tools2/dms2_batch_bcsubamp.html) program to process the deep sequencing data to obtain codon counts:"
   ]
  },
  {
   "cell_type": "code",
   "execution_count": null,
   "metadata": {},
   "outputs": [],
   "source": [
    "countsdir = os.path.join(resultsdir, 'codoncounts')\n",
    "os.makedirs(countsdir, exist_ok=True)\n",
    "\n",
    "bcsubamp_batchfile = os.path.join(countsdir, 'batch.csv')\n",
    "samples[['name', 'R1']].to_csv(bcsubamp_batchfile, index=False)\n",
    "\n",
    "log = ! dms2_batch_bcsubamp \\\n",
    "        --batchfile {bcsubamp_batchfile} \\\n",
    "        --refseq {refseqfile} \\\n",
    "        --alignspecs {alignspecs} \\\n",
    "        --outdir {countsdir} \\\n",
    "        --summaryprefix summary \\\n",
    "        --R1trim 210 \\\n",
    "        --R2trim 210 \\\n",
    "        --ncpus {ncpus} \\\n",
    "        --use_existing {use_existing}\n",
    "\n",
    "samples['codoncounts'] = countsdir + '/' + samples['name'] + '_codoncounts.csv'\n",
    "\n",
    "# check that expected codon counts files created\n",
    "assert all(map(os.path.isfile, samples.codoncounts)), '\\n'.join(log)\n",
    "\n",
    "print(f\"Processed sequencing data to create codon counts files in {countsdir}\")"
   ]
  },
  {
   "cell_type": "markdown",
   "metadata": {},
   "source": [
    "Now we look at the plots.\n",
    "They will all have the following prefix:"
   ]
  },
  {
   "cell_type": "code",
   "execution_count": null,
   "metadata": {
    "tags": []
   },
   "outputs": [],
   "source": [
    "bcsubamp_plot_prefix = os.path.join(countsdir, 'summary_')\n",
    "print(f\"Plots prefix is {bcsubamp_plot_prefix}\")"
   ]
  },
  {
   "cell_type": "markdown",
   "metadata": {},
   "source": [
    "First, we look at the number of reads and barcodes per sample."
   ]
  },
  {
   "cell_type": "code",
   "execution_count": null,
   "metadata": {},
   "outputs": [],
   "source": [
    "showPDF(bcsubamp_plot_prefix + 'readstats.pdf')\n",
    "showPDF(bcsubamp_plot_prefix + 'bcstats.pdf')"
   ]
  },
  {
   "cell_type": "markdown",
   "metadata": {},
   "source": [
    "Next we look at number of reads per barcode."
   ]
  },
  {
   "cell_type": "code",
   "execution_count": null,
   "metadata": {},
   "outputs": [],
   "source": [
    "showPDF(bcsubamp_plot_prefix + 'readsperbc.pdf')"
   ]
  },
  {
   "cell_type": "markdown",
   "metadata": {},
   "source": [
    "Now we look at the depth across the gene.\n",
    "Note that this is still 1, 2, ... numbering of the reference sequence for this tile alone."
   ]
  },
  {
   "cell_type": "code",
   "execution_count": null,
   "metadata": {},
   "outputs": [],
   "source": [
    "showPDF(bcsubamp_plot_prefix + 'depth.pdf')"
   ]
  },
  {
   "cell_type": "markdown",
   "metadata": {},
   "source": [
    "Here are the mutation frequencies across the gene.\n",
    "As expected, the library plasmids have higher mutation rates than the wildtype control:"
   ]
  },
  {
   "cell_type": "code",
   "execution_count": null,
   "metadata": {},
   "outputs": [],
   "source": [
    "showPDF(bcsubamp_plot_prefix + 'mutfreq.pdf')"
   ]
  },
  {
   "cell_type": "markdown",
   "metadata": {},
   "source": [
    "Here are the overall per-codon mutation rate averages:"
   ]
  },
  {
   "cell_type": "code",
   "execution_count": null,
   "metadata": {},
   "outputs": [],
   "source": [
    "showPDF(bcsubamp_plot_prefix + 'codonmuttypes.pdf')"
   ]
  },
  {
   "cell_type": "markdown",
   "metadata": {},
   "source": [
    "We have single and multi-nucleotide changes in the libraries, although the single nucleotide changes are perhaps over-represented:"
   ]
  },
  {
   "cell_type": "code",
   "execution_count": null,
   "metadata": {},
   "outputs": [],
   "source": [
    "showPDF(bcsubamp_plot_prefix + 'codonntchanges.pdf')"
   ]
  },
  {
   "cell_type": "markdown",
   "metadata": {},
   "source": [
    "Here are the frequencies of different types of mutations among single-nucleotide codon changes.\n",
    "We are checking for evidence of oxidative damage, which leads to `C->A` or `G->T` mutations:"
   ]
  },
  {
   "cell_type": "code",
   "execution_count": null,
   "metadata": {},
   "outputs": [],
   "source": [
    "showPDF(bcsubamp_plot_prefix + 'singlentchanges.pdf')"
   ]
  },
  {
   "cell_type": "markdown",
   "metadata": {},
   "source": [
    "Finally, we look at mutation sampling.\n",
    "We want to see that most possible mutations are sampled very well in the plasmid samples. We expect that fewer mutations will be sampled after functional selection in virus samples."
   ]
  },
  {
   "cell_type": "code",
   "execution_count": null,
   "metadata": {},
   "outputs": [],
   "source": [
    "showPDF(bcsubamp_plot_prefix + 'cumulmutcounts.pdf')"
   ]
  },
  {
   "cell_type": "markdown",
   "metadata": {},
   "source": [
    "## Now re-number the sites\n",
    "Above everything is numbered 1, 2, ... for that tile.\n",
    "We want to renumber for the whole gene:"
   ]
  },
  {
   "cell_type": "code",
   "execution_count": null,
   "metadata": {},
   "outputs": [],
   "source": [
    "print(f\"Renumbering by adding an offset of {site_number_offset}\")"
   ]
  },
  {
   "cell_type": "markdown",
   "metadata": {},
   "source": [
    "Create a directory for the re-numbered codon counts:"
   ]
  },
  {
   "cell_type": "code",
   "execution_count": null,
   "metadata": {},
   "outputs": [],
   "source": [
    "renumb_countsdir = os.path.join(resultsdir, 'renumbered_codoncounts')\n",
    "os.makedirs(renumb_countsdir, exist_ok=True)\n",
    "print(f\"Putting renumbered codon counts in {renumb_countsdir}\")"
   ]
  },
  {
   "cell_type": "markdown",
   "metadata": {},
   "source": [
    "Create a renumbering file:"
   ]
  },
  {
   "cell_type": "code",
   "execution_count": null,
   "metadata": {
    "tags": []
   },
   "outputs": [],
   "source": [
    "ncodons = len(refseq)\n",
    "assert 0 == ncodons % 3, f\"invalid {ncodons=}\"\n",
    "\n",
    "renumbfile = os.path.join(renumb_countsdir, 'renumbering.csv')\n",
    "with open(renumbfile, 'w') as f:\n",
    "    f.write('original,new\\n')\n",
    "    for orig in range(1, ncodons + 1):\n",
    "        f.write(f\"{orig},{orig + site_number_offset}\\n\")"
   ]
  },
  {
   "cell_type": "markdown",
   "metadata": {},
   "source": [
    "Renumber all CSVs:"
   ]
  },
  {
   "cell_type": "code",
   "execution_count": null,
   "metadata": {
    "tags": []
   },
   "outputs": [],
   "source": [
    "counts_files = glob.glob(f\"{countsdir}/*_codoncounts.csv\")\n",
    "print(f\"Renumbering {len(counts_files)} files\")\n",
    "\n",
    "dms_tools2.utils.renumberSites(renumbfile, counts_files, outdir=renumb_countsdir)"
   ]
  },
  {
   "cell_type": "markdown",
   "metadata": {},
   "source": [
    "Correct our 'samples' file to include renumb_codoncounts"
   ]
  },
  {
   "cell_type": "code",
   "execution_count": null,
   "metadata": {},
   "outputs": [],
   "source": [
    "samples['renumb_codoncounts'] = renumb_countsdir + '/' + samples['name'] + '_codoncounts.csv'"
   ]
  },
  {
   "cell_type": "markdown",
   "metadata": {},
   "source": [
    "## Functional effects of mutations of viral growth\n",
    "Compute the functional effects of mutations on viral growth by comparing the passaged virus to the original plasmid.\n",
    "\n",
    "To do this, we compute the [amino-acid preferences](https://jbloomlab.github.io/dms_tools2/prefs.html#prefs) under selection for viral growth.\n",
    "We do this using [dms2_batch_prefs](https://jbloomlab.github.io/dms_tools2/dms2_batch_prefs.html).\n",
    "\n",
    "First, make a data frame with the batch file:"
   ]
  },
  {
   "cell_type": "code",
   "execution_count": null,
   "metadata": {},
   "outputs": [],
   "source": [
    "prefs_batch = (\n",
    "    samples\n",
    "    .query('library != \"wt\"')\n",
    "    .query('selection != \"plasmid\"')\n",
    "    .assign(post=lambda x: x['name'])\n",
    "    .merge(samples.query('selection == \"plasmid\"')\n",
    "                  .assign(pre=lambda x: x['name'])\n",
    "                  [['library', 'pre']],\n",
    "           on=['library'], how='left', validate='many_to_one',\n",
    "           )\n",
    "    [['name', 'selection', 'library', 'pre', 'post', 'date']]\n",
    "    .assign(errpre=errpre)\n",
    "    .merge(samples.query('library == \"wt\"')\n",
    "                  .assign(errpost=lambda x: x['name'])\n",
    "                  [['selection', 'errpost', 'date']],\n",
    "           on=['selection', 'date'], how='left'\n",
    "           )\n",
    "    )\n",
    "assert prefs_batch.notnull().all().all()\n",
    "\n",
    "display(prefs_batch)"
   ]
  },
  {
   "cell_type": "markdown",
   "metadata": {
    "execution": {
     "iopub.execute_input": "2020-11-22T23:00:58.649652Z",
     "iopub.status.busy": "2020-11-22T23:00:58.649150Z",
     "iopub.status.idle": "2020-11-22T23:00:58.655446Z",
     "shell.execute_reply": "2020-11-22T23:00:58.654354Z",
     "shell.execute_reply.started": "2020-11-22T23:00:58.649564Z"
    }
   },
   "source": [
    "Now run [dms2_batch_prefs](https://jbloomlab.github.io/dms_tools2/dms2_batch_prefs.html):"
   ]
  },
  {
   "cell_type": "code",
   "execution_count": null,
   "metadata": {},
   "outputs": [],
   "source": [
    "prefsdir = os.path.join(resultsdir, 'prefs')\n",
    "os.makedirs(prefsdir, exist_ok=True)\n",
    "\n",
    "prefs_batchfile = os.path.join(prefsdir, 'batch.csv')\n",
    "prefs_batch.to_csv(prefs_batchfile, index=False)\n",
    "\n",
    "log = ! dms2_batch_prefs \\\n",
    "        --indir {renumb_countsdir} \\\n",
    "        --batchfile {prefs_batchfile} \\\n",
    "        --outdir {prefsdir} \\\n",
    "        --summaryprefix summary \\\n",
    "        --method ratio \\\n",
    "        --use_existing {use_existing} \\\n",
    "        --ncpus {ncpus}\n",
    "\n",
    "assert all(map(os.path.isfile, [os.path.join(prefsdir, name + '_prefs.csv') \n",
    "                                for name in prefs_batch.name])), '\\n'.join(log)\n",
    "\n",
    "print(\"Amino-acid preferences without stop codons calculated for all samples.\")"
   ]
  },
  {
   "cell_type": "markdown",
   "metadata": {},
   "source": [
    "Look at correlation among the amino-acid preferences for the individual libraries:"
   ]
  },
  {
   "cell_type": "code",
   "execution_count": null,
   "metadata": {},
   "outputs": [],
   "source": [
    "showPDF(os.path.join(prefsdir, 'summary_prefscorr.pdf'))"
   ]
  },
  {
   "cell_type": "markdown",
   "metadata": {},
   "source": [
    "Now let's get the amino-acid preferences for **all** samples, and for each condition separately:"
   ]
  },
  {
   "cell_type": "code",
   "execution_count": null,
   "metadata": {},
   "outputs": [],
   "source": [
    "# file with preferences for all samples\n",
    "\n",
    "prefs_files = {}\n",
    "\n",
    "# prefs_files = {'all': os.path.join(prefsdir, 'prefs_all.csv')}\n",
    "# pd.read_csv(os.path.join(prefsdir, 'summary_avgprefs.csv')).to_csv(prefs_files['all'],\n",
    "#                                                                    index=False,\n",
    "#                                                                    float_format='%.5f')\n",
    "\n",
    "# file with preferences for each condition\n",
    "for selection, df in prefs_batch.groupby('selection'):\n",
    "    selection_prefsfiles = [os.path.join(prefsdir, f\"{name}_prefs.csv\") for name in df['name']]\n",
    "    assert all(map(os.path.isfile, selection_prefsfiles)), selection_prefsfiles\n",
    "    prefs_files[selection] = os.path.join(prefsdir, f\"prefs_{selection}.csv\")\n",
    "    dms_tools2.prefs.avgPrefs(selection_prefsfiles).to_csv(prefs_files[selection],\n",
    "                                                           index=False,\n",
    "                                                           float_format='%.5f')\n",
    "    \n",
    "print('Average preferences across conditions are in the following files:')\n",
    "display(HTML(pd.Series(prefs_files).rename('file').to_frame().to_html()))"
   ]
  },
  {
   "cell_type": "markdown",
   "metadata": {},
   "source": [
    "Now we will make a logo plot of the average of the amino-acid preferences across all samples, and each group of samples.\n",
    "We do this using [dms2_logoplot](https://jbloomlab.github.io/dms_tools2/dms2_logoplot.html).\n",
    "Note that this logo plot shows the raw unscaled (not re-scaled) preferences.\n",
    "In this plot, the height of each letter is proportional to the \"preference\" for that amino acid at that site, so taller letters are more preferred at a site.\n",
    "If the site tolerates everything, there will just be lots of small letters as all amino acids equally tolerated:"
   ]
  },
  {
   "cell_type": "code",
   "execution_count": null,
   "metadata": {},
   "outputs": [],
   "source": [
    "logodir = os.path.join(resultsdir, 'logoplots')\n",
    "os.makedirs(logodir, exist_ok=True)\n",
    "\n",
    "# get wildtype amino acids to use as overlay\n",
    "wt_aas = pd.DataFrame.from_records(\n",
    "            [(r + 1 + site_number_offset, a) for r, a in enumerate(refprot) if a != '*'],\n",
    "            columns=['site', 'wildtype'])\n",
    "wtoverlayfile = os.path.join(logodir, 'wt_overlay.csv')\n",
    "wt_aas.to_csv(wtoverlayfile, index=False)\n",
    "\n",
    "for selection, prefs_csv in prefs_files.items():\n",
    "\n",
    "    logoplot = os.path.join(logodir, f\"{selection}_prefs.pdf\")\n",
    "\n",
    "    log = ! dms2_logoplot \\\n",
    "            --prefs {prefs_csv} \\\n",
    "            --name {selection} \\\n",
    "            --outdir {logodir} \\\n",
    "            --nperline 56 \\\n",
    "            --overlay1 {wtoverlayfile} wildtype wildtype \\\n",
    "            --letterheight 1.2 \\\n",
    "            --use_existing {use_existing}\n",
    "\n",
    "    assert os.path.isfile(logoplot), '\\n'.join(log)\n",
    "\n",
    "    print(f\"\\n\\nPreferences for {selection} samples:\")\n",
    "    showPDF(logoplot)"
   ]
  },
  {
   "cell_type": "markdown",
   "metadata": {},
   "source": [
    "We can also represent the effects of mutations in a different way than the amino acid preferences.\n",
    "Specifically, the ratio of the preference for the mutant amino-acid to the wildtype amino-acid is a measure of its enrichment (this is just the ratio of letter heights in the plot above).\n",
    "If we take the log of this mutational effect, negative values indicate deleterious mutations and positive values indicate favorable mutations\n",
    "The potential advantage of this representation is that it better shows the detailed differences between mutations to amino acids with small preferences, which can be useful for figuring out if we think a mutation is just very mildly deleterious or highly deleterious.\n",
    "\n",
    "Here we calculate the mutational effects and then plot their log2 values on a logo plot.\n",
    "\n",
    "First, create a subdirectory for these analyses:"
   ]
  },
  {
   "cell_type": "code",
   "execution_count": null,
   "metadata": {},
   "outputs": [],
   "source": [
    "# Analysis excluding stop codons\n",
    "muteffectsdir = os.path.join(resultsdir, 'muteffects')\n",
    "os.makedirs(muteffectsdir, exist_ok=True)"
   ]
  },
  {
   "cell_type": "markdown",
   "metadata": {},
   "source": [
    "Convert the amino-acid preferences into mutational effects without stop codons. Then, make a logo plots showing the mutational effects for all samples, and for each condition.\n",
    "Letters below the line indicate deleterious mutations, and letters above the line indicate beneficial ones.\n",
    "We include a scale bar indicating the fold-enrichment implied by each letter height. "
   ]
  },
  {
   "cell_type": "code",
   "execution_count": null,
   "metadata": {},
   "outputs": [],
   "source": [
    "# ensure stop codons are not in the character list\n",
    "if '*' in AAS:\n",
    "    AAS.remove('*')\n",
    "\n",
    "# calculate mutational effects \n",
    "muteffects_files = {}\n",
    "for selection, prefs_csv in prefs_files.items():\n",
    "    muteffects = dms_tools2.prefs.prefsToMutFromWtEffects(\n",
    "                    prefs=pd.read_csv(prefs_csv),\n",
    "                    charlist=AAS,\n",
    "                    wts=wt_aas)\n",
    "    muteffects_files[selection] = os.path.join(muteffectsdir, f\"{selection}_muteffects.csv\")\n",
    "    print(f\"Writing mutational effects for {selection} to {muteffects_files[selection]}\")\n",
    "    muteffects.to_csv(muteffects_files[selection], index=False, float_format='%.5g')\n",
    "\n",
    "for selection, muteffects_csv in muteffects_files.items():\n",
    "\n",
    "    logoplot = os.path.join(logodir, f\"{selection}_muteffects.pdf\")\n",
    "\n",
    "    log = ! dms2_logoplot \\\n",
    "            --muteffects {muteffects_csv} \\\n",
    "            --name {selection} \\\n",
    "            --outdir {logodir} \\\n",
    "            --nperline 56 \\\n",
    "            --overlay1 {wtoverlayfile} wildtype wildtype \\\n",
    "            --scalebar 6.64 \"100-fold change (log scale)\" \\\n",
    "            --use_existing {use_existing}\n",
    "\n",
    "    assert os.path.isfile(logoplot), '\\n'.join(log)\n",
    "\n",
    "    print(f\"\\n\\nMutational effects for {selection} samples:\")\n",
    "    showPDF(logoplot)"
   ]
  },
  {
   "cell_type": "markdown",
   "metadata": {},
   "source": [
    "## Repeat analysis, adding stop codons\n",
    "Going back to the amino acid preferences step, run [dms2_batch_prefs](https://jbloomlab.github.io/dms_tools2/dms2_batch_prefs.html) again, this time including stop codons. "
   ]
  },
  {
   "cell_type": "code",
   "execution_count": null,
   "metadata": {},
   "outputs": [],
   "source": [
    "prefs_withStops_dir = os.path.join(resultsdir, 'prefs_withStops')\n",
    "os.makedirs(prefs_withStops_dir, exist_ok=True)\n",
    "\n",
    "log = ! dms2_batch_prefs \\\n",
    "        --indir {renumb_countsdir} \\\n",
    "        --batchfile {prefs_batchfile} \\\n",
    "        --outdir {prefs_withStops_dir} \\\n",
    "        --summaryprefix summary \\\n",
    "        --method ratio \\\n",
    "        --excludestop 'no' \\\n",
    "        --use_existing {use_existing} \\\n",
    "        --ncpus {ncpus}\n",
    "\n",
    "assert all(map(os.path.isfile, [os.path.join(prefsdir, name + '_prefs.csv') \n",
    "                                for name in prefs_batch.name])), '\\n'.join(log)\n",
    "\n",
    "print(\"Amino-acid preferences with stop codons calculated for all samples.\")"
   ]
  },
  {
   "cell_type": "markdown",
   "metadata": {},
   "source": [
    "Now let's get the amino-acid preferences for **all** samples, and for each condition separately:"
   ]
  },
  {
   "cell_type": "code",
   "execution_count": null,
   "metadata": {},
   "outputs": [],
   "source": [
    "prefs_withStops_files = {}\n",
    "\n",
    "# file with preferences for each condition\n",
    "for selection, df in prefs_batch.groupby('selection'):\n",
    "    selection_prefsfiles = [os.path.join(prefs_withStops_dir, f\"{name}_prefs.csv\") for name in df['name']]\n",
    "    assert all(map(os.path.isfile, selection_prefsfiles)), selection_prefsfiles\n",
    "    prefs_withStops_files[selection] = os.path.join(prefs_withStops_dir, f\"prefs_{selection}.csv\")\n",
    "    dms_tools2.prefs.avgPrefs(selection_prefsfiles).to_csv(prefs_withStops_files[selection],\n",
    "                                                           index=False,\n",
    "                                                           float_format='%.5f')\n",
    "    \n",
    "print('Average preferences across conditions are in the following files:')\n",
    "display(HTML(pd.Series(prefs_withStops_files).rename('file').to_frame().to_html()))"
   ]
  },
  {
   "cell_type": "markdown",
   "metadata": {},
   "source": [
    "Output logoplots of amino acid preferences with stop codons."
   ]
  },
  {
   "cell_type": "code",
   "execution_count": null,
   "metadata": {},
   "outputs": [],
   "source": [
    "logo_withStops_dir = os.path.join(resultsdir, 'logoplots_withStops')\n",
    "os.makedirs(logo_withStops_dir, exist_ok=True)\n",
    "\n",
    "for selection, prefs_csv in prefs_withStops_files.items():\n",
    "\n",
    "    logoplot = os.path.join(logo_withStops_dir, f\"{selection}_prefs.pdf\")\n",
    "\n",
    "    log = ! dms2_logoplot \\\n",
    "            --prefs {prefs_csv} \\\n",
    "            --name {selection} \\\n",
    "            --outdir {logo_withStops_dir} \\\n",
    "            --nperline 56 \\\n",
    "            --overlay1 {wtoverlayfile} wildtype wildtype \\\n",
    "            --letterheight 1.2 \\\n",
    "            --use_existing {use_existing}\n",
    "\n",
    "    assert os.path.isfile(logoplot), '\\n'.join(log)\n",
    "\n",
    "    print(f\"\\n\\nPreferences for {selection} samples:\")\n",
    "    showPDF(logoplot)"
   ]
  },
  {
   "cell_type": "markdown",
   "metadata": {},
   "source": [
    "Repeat converting the amino-acid preferences into mutational effects, now including stop codons. Then make logo plots as above."
   ]
  },
  {
   "cell_type": "code",
   "execution_count": null,
   "metadata": {},
   "outputs": [],
   "source": [
    "# Analysis inlcuding stop codons, as means of validating expected deleterious effects\n",
    "muteffects_withStops_dir = os.path.join(resultsdir, 'muteffects_withStops')\n",
    "os.makedirs(muteffects_withStops_dir, exist_ok=True)\n",
    "\n",
    "# Add stop codon to character list\n",
    "if '*' not in AAS:\n",
    "    AAS.append('*')\n",
    "\n",
    "# Calculate mutational effects \n",
    "muteffects_withStops_files = {}\n",
    "for selection, prefs_withStops_csv in prefs_withStops_files.items():\n",
    "    muteffects_withStops = dms_tools2.prefs.prefsToMutFromWtEffects(\n",
    "                    prefs=pd.read_csv(prefs_withStops_csv),\n",
    "                    charlist=AAS,\n",
    "                    wts=wt_aas)\n",
    "    muteffects_withStops_files[selection] = os.path.join(muteffects_withStops_dir, f\"{selection}_muteffects.csv\")\n",
    "    print(f\"Writing mutational effects for {selection} to {muteffects_withStops_files[selection]}\")\n",
    "    muteffects_withStops.to_csv(muteffects_withStops_files[selection], index=False, float_format='%.5g')\n",
    "\n",
    "for selection, muteffects_withStops_csv in muteffects_withStops_files.items():\n",
    "\n",
    "    logoplot = os.path.join(logo_withStops_dir, f\"{selection}_muteffects.pdf\")\n",
    "\n",
    "    log = ! dms2_logoplot \\\n",
    "            --muteffects {muteffects_withStops_csv} \\\n",
    "            --name {selection} \\\n",
    "            --outdir {logo_withStops_dir} \\\n",
    "            --nperline 56 \\\n",
    "            --overlay1 {wtoverlayfile} wildtype wildtype \\\n",
    "            --scalebar 6.64 \"100-fold change (log scale)\" \\\n",
    "            --use_existing {use_existing}\n",
    "\n",
    "    assert os.path.isfile(logoplot), '\\n'.join(log)\n",
    "\n",
    "    print(f\"\\n\\nMutational effects for {selection} samples:\")\n",
    "    showPDF(logoplot)"
   ]
  }
 ],
 "metadata": {
  "kernelspec": {
   "display_name": "Python 3 (ipykernel)",
   "language": "python",
   "name": "python3"
  },
  "language_info": {
   "codemirror_mode": {
    "name": "ipython",
    "version": 3
   },
   "file_extension": ".py",
   "mimetype": "text/x-python",
   "name": "python",
   "nbconvert_exporter": "python",
   "pygments_lexer": "ipython3",
   "version": "3.8.13"
  },
  "toc": {
   "base_numbering": 1,
   "nav_menu": {},
   "number_sections": false,
   "sideBar": true,
   "skip_h1_title": false,
   "title_cell": "Table of Contents",
   "title_sidebar": "Contents",
   "toc_cell": true,
   "toc_position": {
    "height": "calc(100% - 180px)",
    "left": "10px",
    "top": "150px",
    "width": "299.631px"
   },
   "toc_section_display": true,
   "toc_window_display": true
  }
 },
 "nbformat": 4,
 "nbformat_minor": 4
}
