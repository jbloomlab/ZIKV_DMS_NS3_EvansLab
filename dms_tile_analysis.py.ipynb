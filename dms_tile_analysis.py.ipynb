{
 "cells": [
  {
   "cell_type": "markdown",
   "metadata": {},
   "source": [
    "# Deep mutational scanning of ZIKV NS2B/NS3 protease\n",
    "\n",
    "*Mutagenized libraries are based on the Zika virus African-lineage MR766 strain split in three 'tiles' over the genome.*"
   ]
  },
  {
   "cell_type": "code",
   "execution_count": 33,
   "metadata": {
    "tags": []
   },
   "outputs": [
    {
     "name": "stdout",
     "output_type": "stream",
     "text": [
      "Using dms_tools2 2.6.10\n"
     ]
    }
   ],
   "source": [
    "import os\n",
    "import glob\n",
    "import Bio.SeqIO\n",
    "import pandas as pd\n",
    "from plotnine import *\n",
    "\n",
    "import dms_tools2\n",
    "import dms_tools2.prefs\n",
    "import dms_tools2.utils\n",
    "from dms_tools2 import AAS\n",
    "from dms_tools2.plot import COLOR_BLIND_PALETTE_GRAY as CBPALETTE\n",
    "print(f\"Using dms_tools2 {dms_tools2.__version__}\")\n",
    "\n",
    "from IPython.display import display, HTML, IFrame\n",
    "def pdf(url):\n",
    "    return HTML('<embed src=\"%s\" type=\"application/pdf\" width=\"100%%\" height=\"600px\" />' % url)"
   ]
  },
  {
   "cell_type": "markdown",
   "metadata": {},
   "source": [
    "Run notebook from `snakemake`. Initialize parameters from the pipeline."
   ]
  },
  {
   "cell_type": "code",
   "execution_count": 14,
   "metadata": {
    "tags": []
   },
   "outputs": [
    {
     "name": "stdout",
     "output_type": "stream",
     "text": [
      "Using 4 cores\n",
      "\n",
      "Amplicon: data/tile_1_amplicon.fasta\n",
      "\n",
      "Sample list: data/tile_1_samplelist.csv\n",
      "\n",
      "Writing to results directory: results/tile_1\n",
      "\n",
      "Pre-selection error control: wt-plasmid-231024\n",
      "\n",
      "Site number offset: 0\n",
      "\n",
      "Using existing: no\n",
      "\n"
     ]
    }
   ],
   "source": [
    "# try: \n",
    "ncpus = snakemake.threads\n",
    "refseqfile = snakemake.input.amplicon\n",
    "samplelist = snakemake.input.samplelist\n",
    "alignspecsfile = snakemake.input.alignspecs\n",
    "resultsdir = snakemake.output.resultsdir\n",
    "errpre = snakemake.params.errpre\n",
    "site_number_offset = snakemake.params.site_number_offset\n",
    "use_existing = 'no'\n",
    "# except NameError:\n",
    "#     # Test locally on tile 1\n",
    "#     ncpus = 4\n",
    "#     refseqfile = \"data/tile_1_amplicon.fasta\"\n",
    "#     samplelist = \"data/tile_1_samplelist.csv\"\n",
    "#     alignspecsfile =\"data/tile_1_subamplicon_alignspecs.txt\"\n",
    "#     resultsdir = \"results/tile_1\"\n",
    "#     errpre = \"wt-plasmid-231024\"\n",
    "#     site_number_offset = 0\n",
    "#     use_existing = 'no'\n",
    "\n",
    "print(f\"Using {ncpus} cores\\n\")\n",
    "print(f\"Amplicon: {refseqfile}\\n\")\n",
    "print(f\"Sample list: {samplelist}\\n\")\n",
    "print(f\"Writing to results directory: {resultsdir}\\n\")\n",
    "print(f\"Pre-selection error control: {errpre}\\n\")\n",
    "print(f\"Site number offset: {site_number_offset}\\n\")\n",
    "print(f\"Using existing: {use_existing}\\n\")"
   ]
  },
  {
   "cell_type": "markdown",
   "metadata": {},
   "source": [
    "Make the results directory."
   ]
  },
  {
   "cell_type": "code",
   "execution_count": 15,
   "metadata": {},
   "outputs": [],
   "source": [
    "os.makedirs(resultsdir, exist_ok=True)"
   ]
  },
  {
   "cell_type": "markdown",
   "metadata": {},
   "source": [
    "Read in the wildtype (reference) sequence and its protein translation:"
   ]
  },
  {
   "cell_type": "code",
   "execution_count": 16,
   "metadata": {
    "tags": []
   },
   "outputs": [
    {
     "name": "stdout",
     "output_type": "stream",
     "text": [
      "Read reference sequence of 309 nucleotides from data/tile_1_amplicon.fasta that translates to protein of 103 amino acids.\n"
     ]
    }
   ],
   "source": [
    "refseqrecord = Bio.SeqIO.read(refseqfile, 'fasta')\n",
    "refprot = str(refseqrecord.seq.translate())\n",
    "refseq = str(refseqrecord.seq)\n",
    "\n",
    "print(f\"Read reference sequence of {len(refseq)} nucleotides from {refseqfile} \"\n",
    "      f\"that translates to protein of {len(refprot)} amino acids.\")"
   ]
  },
  {
   "cell_type": "markdown",
   "metadata": {},
   "source": [
    "## Process deep sequencing data\n",
    "\n",
    "We process the data from the [barcoded subamplicon deep sequencing](https://jbloomlab.github.io/dms_tools2/bcsubamp.html) to count the frequency of each codon in each sample."
   ]
  },
  {
   "cell_type": "markdown",
   "metadata": {},
   "source": [
    "Read in the samples:"
   ]
  },
  {
   "cell_type": "code",
   "execution_count": 17,
   "metadata": {
    "tags": []
   },
   "outputs": [
    {
     "data": {
      "text/html": [
       "<table border=\"1\" class=\"dataframe\">\n",
       "  <thead>\n",
       "    <tr style=\"text-align: right;\">\n",
       "      <th>library</th>\n",
       "      <th>selection</th>\n",
       "      <th>date</th>\n",
       "      <th>R1</th>\n",
       "      <th>sra_accession</th>\n",
       "      <th>name</th>\n",
       "    </tr>\n",
       "  </thead>\n",
       "  <tbody>\n",
       "    <tr>\n",
       "      <td>lib1</td>\n",
       "      <td>virus</td>\n",
       "      <td>231024</td>\n",
       "      <td>/shared/ngs/illumina/ckikawa/231017_M00492_0174_000000000-L7FYB/Unaligned/Project_ckikawa/Virus_Tile_1_Lib_1_S1_R1_001.fastq.gz</td>\n",
       "      <td>NaN</td>\n",
       "      <td>lib1-virus-231024</td>\n",
       "    </tr>\n",
       "    <tr>\n",
       "      <td>lib2</td>\n",
       "      <td>virus</td>\n",
       "      <td>231024</td>\n",
       "      <td>/shared/ngs/illumina/ckikawa/231017_M00492_0174_000000000-L7FYB/Unaligned/Project_ckikawa/Virus_Tile_1_Lib_2_S2_R1_001.fastq.gz</td>\n",
       "      <td>NaN</td>\n",
       "      <td>lib2-virus-231024</td>\n",
       "    </tr>\n",
       "    <tr>\n",
       "      <td>lib3</td>\n",
       "      <td>virus</td>\n",
       "      <td>231024</td>\n",
       "      <td>/shared/ngs/illumina/ckikawa/231017_M00492_0174_000000000-L7FYB/Unaligned/Project_ckikawa/Virus_Tile_1_Lib_3_S3_R1_001.fastq.gz</td>\n",
       "      <td>NaN</td>\n",
       "      <td>lib3-virus-231024</td>\n",
       "    </tr>\n",
       "    <tr>\n",
       "      <td>wt</td>\n",
       "      <td>virus</td>\n",
       "      <td>231024</td>\n",
       "      <td>/shared/ngs/illumina/ckikawa/231017_M00492_0174_000000000-L7FYB/Unaligned/Project_ckikawa/Virus_Tile_1_WT_S4_R1_001.fastq.gz</td>\n",
       "      <td>NaN</td>\n",
       "      <td>wt-virus-231024</td>\n",
       "    </tr>\n",
       "    <tr>\n",
       "      <td>lib1</td>\n",
       "      <td>plasmid</td>\n",
       "      <td>231024</td>\n",
       "      <td>/shared/ngs/illumina/ckikawa/231017_M00492_0174_000000000-L7FYB/Unaligned/Project_ckikawa/Plasmid_Tile_1_Lib_1_S5_R1_001.fastq.gz</td>\n",
       "      <td>NaN</td>\n",
       "      <td>lib1-plasmid-231024</td>\n",
       "    </tr>\n",
       "    <tr>\n",
       "      <td>lib2</td>\n",
       "      <td>plasmid</td>\n",
       "      <td>231024</td>\n",
       "      <td>/shared/ngs/illumina/ckikawa/231017_M00492_0174_000000000-L7FYB/Unaligned/Project_ckikawa/Plasmid_Tile_1_Lib_2_S6_R1_001.fastq.gz</td>\n",
       "      <td>NaN</td>\n",
       "      <td>lib2-plasmid-231024</td>\n",
       "    </tr>\n",
       "    <tr>\n",
       "      <td>lib3</td>\n",
       "      <td>plasmid</td>\n",
       "      <td>231024</td>\n",
       "      <td>/shared/ngs/illumina/ckikawa/231017_M00492_0174_000000000-L7FYB/Unaligned/Project_ckikawa/Plasmid_Tile_1_Lib_3_S7_R1_001.fastq.gz</td>\n",
       "      <td>NaN</td>\n",
       "      <td>lib3-plasmid-231024</td>\n",
       "    </tr>\n",
       "    <tr>\n",
       "      <td>wt</td>\n",
       "      <td>plasmid</td>\n",
       "      <td>231024</td>\n",
       "      <td>/shared/ngs/illumina/ckikawa/231017_M00492_0174_000000000-L7FYB/Unaligned/Project_ckikawa/Plasmid_Tile_1_WT_S8_R1_001.fastq.gz</td>\n",
       "      <td>NaN</td>\n",
       "      <td>wt-plasmid-231024</td>\n",
       "    </tr>\n",
       "  </tbody>\n",
       "</table>"
      ],
      "text/plain": [
       "<IPython.core.display.HTML object>"
      ]
     },
     "metadata": {},
     "output_type": "display_data"
    }
   ],
   "source": [
    "samples = (pd.read_csv(samplelist)\n",
    "           .assign(name=lambda x: x.library + '-' + x.selection + '-' + x.date.astype(str))\n",
    "           )\n",
    "\n",
    "display(HTML(samples.to_html(index=False)))"
   ]
  },
  {
   "cell_type": "markdown",
   "metadata": {},
   "source": [
    "Read in the alignment specs for the [barcoded subamplicon sequencing](https://jbloomlab.github.io/dms_tools2/bcsubamp.html):"
   ]
  },
  {
   "cell_type": "code",
   "execution_count": 18,
   "metadata": {},
   "outputs": [
    {
     "name": "stdout",
     "output_type": "stream",
     "text": [
      "Alignment specification: 1,309,30,30\n"
     ]
    }
   ],
   "source": [
    "with open(alignspecsfile) as f:\n",
    "    alignspecs = f.read().strip()\n",
    "\n",
    "print(f\"Alignment specification: {alignspecs}\")"
   ]
  },
  {
   "cell_type": "markdown",
   "metadata": {},
   "source": [
    "Use the [dms2_batch_bcsubamp](https://jbloomlab.github.io/dms_tools2/dms2_batch_bcsubamp.html) program to process the deep sequencing data to obtain codon counts:"
   ]
  },
  {
   "cell_type": "code",
   "execution_count": 7,
   "metadata": {},
   "outputs": [
    {
     "name": "stdout",
     "output_type": "stream",
     "text": [
      "Processed sequencing data to create codon counts files in results/tile_1/codoncounts\n"
     ]
    }
   ],
   "source": [
    "# Write out the codon counts to a new directory\n",
    "countsdir = os.path.join(resultsdir, 'codoncounts')\n",
    "os.makedirs(countsdir, exist_ok=True)\n",
    "\n",
    "bcsubamp_batchfile = os.path.join(countsdir, 'batch.csv')\n",
    "samples[['name', 'R1']].to_csv(bcsubamp_batchfile, index=False)\n",
    "\n",
    "log = ! dms2_batch_bcsubamp \\\n",
    "        --batchfile {bcsubamp_batchfile} \\\n",
    "        --refseq {refseqfile} \\\n",
    "        --alignspecs {alignspecs} \\\n",
    "        --outdir {countsdir} \\\n",
    "        --summaryprefix summary \\\n",
    "        --R1trim 210 \\\n",
    "        --R2trim 210 \\\n",
    "        --ncpus {ncpus} \\\n",
    "        --use_existing {use_existing}\n",
    "\n",
    "samples['codoncounts'] = countsdir + '/' + samples['name'] + '_codoncounts.csv'\n",
    "\n",
    "# Check that expected codon counts files created\n",
    "assert all(map(os.path.isfile, samples.codoncounts)), '\\n'.join(log)\n",
    "\n",
    "print(f\"Processed sequencing data to create codon counts files in {countsdir}\")"
   ]
  },
  {
   "cell_type": "markdown",
   "metadata": {},
   "source": [
    "## Quality control and library statistics\n",
    "\n",
    "Plots for quality control and summary statistics prefixed with the following path:"
   ]
  },
  {
   "cell_type": "code",
   "execution_count": 8,
   "metadata": {
    "tags": []
   },
   "outputs": [
    {
     "name": "stdout",
     "output_type": "stream",
     "text": [
      "Plots prefix is results/tile_1/codoncounts/summary_\n"
     ]
    }
   ],
   "source": [
    "bcsubamp_plot_prefix = os.path.join(countsdir, 'summary_')\n",
    "print(f\"Plots prefix is {bcsubamp_plot_prefix}\")"
   ]
  },
  {
   "cell_type": "markdown",
   "metadata": {},
   "source": [
    "### Number of reads and barcodes per sample\n",
    "\n",
    "#### Read fate"
   ]
  },
  {
   "cell_type": "code",
   "execution_count": 36,
   "metadata": {},
   "outputs": [
    {
     "data": {
      "text/html": [
       "\n",
       "        <iframe\n",
       "            width=\"800\"\n",
       "            height=\"350\"\n",
       "            src=\"results/tile_1/codoncounts/summary_readstats.pdf\"\n",
       "            frameborder=\"0\"\n",
       "            allowfullscreen\n",
       "            \n",
       "        ></iframe>\n",
       "        "
      ],
      "text/plain": [
       "<IPython.lib.display.IFrame at 0x7f0c56e7a490>"
      ]
     },
     "execution_count": 36,
     "metadata": {},
     "output_type": "execute_result"
    }
   ],
   "source": [
    "IFrame(bcsubamp_plot_prefix + 'readstats.pdf', width=800, height=350)"
   ]
  },
  {
   "cell_type": "markdown",
   "metadata": {},
   "source": [
    "#### Barcode fate"
   ]
  },
  {
   "cell_type": "code",
   "execution_count": 11,
   "metadata": {},
   "outputs": [
    {
     "data": {
      "text/html": [
       "<embed src=\"results/tile_1/codoncounts/summary_bcstats.pdf\" type=\"application/pdf\" width=\"100%\" height=\"600px\" />"
      ],
      "text/plain": [
       "<IPython.core.display.HTML object>"
      ]
     },
     "execution_count": 11,
     "metadata": {},
     "output_type": "execute_result"
    }
   ],
   "source": [
    "pdf(bcsubamp_plot_prefix + 'bcstats.pdf')"
   ]
  },
  {
   "cell_type": "markdown",
   "metadata": {},
   "source": [
    "### Number of reads per barcode"
   ]
  },
  {
   "cell_type": "code",
   "execution_count": 19,
   "metadata": {},
   "outputs": [
    {
     "data": {
      "text/html": [
       "<embed src=\"results/tile_1/codoncounts/summary_readsperbc.pdf\" type=\"application/pdf\" width=\"100%\" height=\"600px\" />"
      ],
      "text/plain": [
       "<IPython.core.display.HTML object>"
      ]
     },
     "execution_count": 19,
     "metadata": {},
     "output_type": "execute_result"
    }
   ],
   "source": [
    "pdf(bcsubamp_plot_prefix + 'readsperbc.pdf')"
   ]
  },
  {
   "cell_type": "markdown",
   "metadata": {},
   "source": [
    "### Read depth across the gene\n",
    "\n",
    "Note that the numbering is with respect to the tile, not the reference."
   ]
  },
  {
   "cell_type": "code",
   "execution_count": 20,
   "metadata": {},
   "outputs": [
    {
     "data": {
      "text/html": [
       "<embed src=\"results/tile_1/codoncounts/summary_depth.pdf\" type=\"application/pdf\" width=\"100%\" height=\"600px\" />"
      ],
      "text/plain": [
       "<IPython.core.display.HTML object>"
      ]
     },
     "execution_count": 20,
     "metadata": {},
     "output_type": "execute_result"
    }
   ],
   "source": [
    "pdf(bcsubamp_plot_prefix + 'depth.pdf')"
   ]
  },
  {
   "attachments": {},
   "cell_type": "markdown",
   "metadata": {},
   "source": [
    "### Mutation frequencies across the gene\n",
    "\n",
    "As expected, the library plasmids have higher mutation rates than the wildtype control."
   ]
  },
  {
   "cell_type": "code",
   "execution_count": 21,
   "metadata": {},
   "outputs": [
    {
     "data": {
      "text/html": [
       "<embed src=\"results/tile_1/codoncounts/summary_mutfreq.pdf\" type=\"application/pdf\" width=\"100%\" height=\"600px\" />"
      ],
      "text/plain": [
       "<IPython.core.display.HTML object>"
      ]
     },
     "execution_count": 21,
     "metadata": {},
     "output_type": "execute_result"
    }
   ],
   "source": [
    "pdf(bcsubamp_plot_prefix + 'mutfreq.pdf')"
   ]
  },
  {
   "cell_type": "markdown",
   "metadata": {},
   "source": [
    "### Overall per-codon mutation rate averages\n",
    "\n",
    "We'd expect that stop mutations and nonsynonymous mutations—most of which are deleterious—are purged after passaging in cell culture."
   ]
  },
  {
   "cell_type": "code",
   "execution_count": 23,
   "metadata": {},
   "outputs": [
    {
     "data": {
      "text/html": [
       "<embed src=\"results/tile_1/codoncounts/summary_codonmuttypes.pdf\" type=\"application/pdf\" width=\"100%\" height=\"600px\" />"
      ],
      "text/plain": [
       "<IPython.core.display.HTML object>"
      ]
     },
     "execution_count": 23,
     "metadata": {},
     "output_type": "execute_result"
    }
   ],
   "source": [
    "pdf(bcsubamp_plot_prefix + 'codonmuttypes.pdf')"
   ]
  },
  {
   "cell_type": "markdown",
   "metadata": {},
   "source": [
    "We have single and multi-nucleotide changes in the libraries, although the single nucleotide changes are perhaps over-represented:"
   ]
  },
  {
   "cell_type": "code",
   "execution_count": 24,
   "metadata": {},
   "outputs": [
    {
     "data": {
      "text/html": [
       "<embed src=\"results/tile_1/codoncounts/summary_codonntchanges.pdf\" type=\"application/pdf\" width=\"100%\" height=\"600px\" />"
      ],
      "text/plain": [
       "<IPython.core.display.HTML object>"
      ]
     },
     "execution_count": 24,
     "metadata": {},
     "output_type": "execute_result"
    }
   ],
   "source": [
    "pdf(bcsubamp_plot_prefix + 'codonntchanges.pdf')"
   ]
  },
  {
   "cell_type": "markdown",
   "metadata": {},
   "source": [
    "Here are the frequencies of different types of mutations among single-nucleotide codon changes. We are checking for evidence of oxidative damage, which leads to `C->A` or `G->T` mutations:"
   ]
  },
  {
   "cell_type": "code",
   "execution_count": 26,
   "metadata": {},
   "outputs": [
    {
     "data": {
      "text/html": [
       "<embed src=\"results/tile_1/codoncounts/summary_singlentchanges.pdf\" type=\"application/pdf\" width=\"100%\" height=\"600px\" />"
      ],
      "text/plain": [
       "<IPython.core.display.HTML object>"
      ]
     },
     "execution_count": 26,
     "metadata": {},
     "output_type": "execute_result"
    }
   ],
   "source": [
    "pdf(bcsubamp_plot_prefix + 'singlentchanges.pdf')"
   ]
  },
  {
   "cell_type": "markdown",
   "metadata": {},
   "source": [
    "### Mutation sampling\n",
    "\n",
    "We want to see that most possible mutations are sampled very well in the plasmid samples. We expect that fewer mutations will be sampled after functional selection in virus samples."
   ]
  },
  {
   "cell_type": "code",
   "execution_count": 27,
   "metadata": {},
   "outputs": [
    {
     "data": {
      "text/html": [
       "<embed src=\"results/tile_1/codoncounts/summary_cumulmutcounts.pdf\" type=\"application/pdf\" width=\"100%\" height=\"600px\" />"
      ],
      "text/plain": [
       "<IPython.core.display.HTML object>"
      ]
     },
     "execution_count": 27,
     "metadata": {},
     "output_type": "execute_result"
    }
   ],
   "source": [
    "pdf(bcsubamp_plot_prefix + 'cumulmutcounts.pdf')"
   ]
  },
  {
   "cell_type": "markdown",
   "metadata": {},
   "source": [
    "## Re-number sites\n",
    "\n",
    "The data above is numbered with respect to the tile, not the reference genome. Below, we re-number the tile data with respect to the reference gene.\n"
   ]
  },
  {
   "cell_type": "code",
   "execution_count": 37,
   "metadata": {},
   "outputs": [
    {
     "name": "stdout",
     "output_type": "stream",
     "text": [
      "Renumbering by adding an offset of 0\n"
     ]
    }
   ],
   "source": [
    "print(f\"Renumbering by adding an offset of {site_number_offset}\")"
   ]
  },
  {
   "cell_type": "markdown",
   "metadata": {},
   "source": [
    "Create a directory for the re-numbered codon counts:"
   ]
  },
  {
   "cell_type": "code",
   "execution_count": 38,
   "metadata": {},
   "outputs": [
    {
     "name": "stdout",
     "output_type": "stream",
     "text": [
      "Putting renumbered codon counts in results/tile_1/renumbered_codoncounts\n"
     ]
    }
   ],
   "source": [
    "renumb_countsdir = os.path.join(resultsdir, 'renumbered_codoncounts')\n",
    "os.makedirs(renumb_countsdir, exist_ok=True)\n",
    "print(f\"Putting renumbered codon counts in {renumb_countsdir}\")"
   ]
  },
  {
   "cell_type": "markdown",
   "metadata": {},
   "source": [
    "Create a renumbering file:"
   ]
  },
  {
   "cell_type": "code",
   "execution_count": 39,
   "metadata": {
    "tags": []
   },
   "outputs": [],
   "source": [
    "ncodons = len(refseq)\n",
    "assert 0 == ncodons % 3, f\"invalid {ncodons=}\"\n",
    "\n",
    "renumbfile = os.path.join(renumb_countsdir, 'renumbering.csv')\n",
    "with open(renumbfile, 'w') as f:\n",
    "    f.write('original,new\\n')\n",
    "    for orig in range(1, ncodons + 1):\n",
    "        f.write(f\"{orig},{orig + site_number_offset}\\n\")"
   ]
  },
  {
   "cell_type": "markdown",
   "metadata": {},
   "source": [
    "Renumber all CSVs:"
   ]
  },
  {
   "cell_type": "code",
   "execution_count": 40,
   "metadata": {
    "tags": []
   },
   "outputs": [
    {
     "name": "stdout",
     "output_type": "stream",
     "text": [
      "Renumbering 8 files\n"
     ]
    }
   ],
   "source": [
    "counts_files = glob.glob(f\"{countsdir}/*_codoncounts.csv\")\n",
    "print(f\"Renumbering {len(counts_files)} files\")\n",
    "\n",
    "dms_tools2.utils.renumberSites(renumbfile, counts_files, outdir=renumb_countsdir)"
   ]
  },
  {
   "cell_type": "markdown",
   "metadata": {},
   "source": [
    "Correct our 'samples' file to include renumb_codoncounts"
   ]
  },
  {
   "cell_type": "code",
   "execution_count": 41,
   "metadata": {},
   "outputs": [],
   "source": [
    "samples['renumb_codoncounts'] = renumb_countsdir + '/' + samples['name'] + '_codoncounts.csv'"
   ]
  },
  {
   "cell_type": "markdown",
   "metadata": {},
   "source": [
    "## Functional effects of mutations of viral growth without stop codons\n",
    "\n",
    "We determine the functional effects of mutations on viral growth by comparing the passaged viral variants to the original plasmid library. To do this, we compute the [amino-acid preferences](https://jbloomlab.github.io/dms_tools2/prefs.html#prefs) under selection for viral growth. We do this using [dms2_batch_prefs](https://jbloomlab.github.io/dms_tools2/dms2_batch_prefs.html).\n",
    "\n",
    "### Mutation Preference"
   ]
  },
  {
   "cell_type": "code",
   "execution_count": 54,
   "metadata": {},
   "outputs": [
    {
     "data": {
      "text/html": [
       "<div>\n",
       "<style scoped>\n",
       "    .dataframe tbody tr th:only-of-type {\n",
       "        vertical-align: middle;\n",
       "    }\n",
       "\n",
       "    .dataframe tbody tr th {\n",
       "        vertical-align: top;\n",
       "    }\n",
       "\n",
       "    .dataframe thead th {\n",
       "        text-align: right;\n",
       "    }\n",
       "</style>\n",
       "<table border=\"1\" class=\"dataframe\">\n",
       "  <thead>\n",
       "    <tr style=\"text-align: right;\">\n",
       "      <th></th>\n",
       "      <th>name</th>\n",
       "      <th>selection</th>\n",
       "      <th>library</th>\n",
       "      <th>pre</th>\n",
       "      <th>post</th>\n",
       "      <th>date</th>\n",
       "      <th>errpre</th>\n",
       "      <th>errpost</th>\n",
       "    </tr>\n",
       "  </thead>\n",
       "  <tbody>\n",
       "    <tr>\n",
       "      <th>0</th>\n",
       "      <td>lib1-virus-231024</td>\n",
       "      <td>virus</td>\n",
       "      <td>lib1</td>\n",
       "      <td>lib1-plasmid-231024</td>\n",
       "      <td>lib1-virus-231024</td>\n",
       "      <td>231024</td>\n",
       "      <td>wt-plasmid-231024</td>\n",
       "      <td>wt-virus-231024</td>\n",
       "    </tr>\n",
       "    <tr>\n",
       "      <th>1</th>\n",
       "      <td>lib2-virus-231024</td>\n",
       "      <td>virus</td>\n",
       "      <td>lib2</td>\n",
       "      <td>lib2-plasmid-231024</td>\n",
       "      <td>lib2-virus-231024</td>\n",
       "      <td>231024</td>\n",
       "      <td>wt-plasmid-231024</td>\n",
       "      <td>wt-virus-231024</td>\n",
       "    </tr>\n",
       "    <tr>\n",
       "      <th>2</th>\n",
       "      <td>lib3-virus-231024</td>\n",
       "      <td>virus</td>\n",
       "      <td>lib3</td>\n",
       "      <td>lib3-plasmid-231024</td>\n",
       "      <td>lib3-virus-231024</td>\n",
       "      <td>231024</td>\n",
       "      <td>wt-plasmid-231024</td>\n",
       "      <td>wt-virus-231024</td>\n",
       "    </tr>\n",
       "  </tbody>\n",
       "</table>\n",
       "</div>"
      ],
      "text/plain": [
       "                name selection library                  pre  \\\n",
       "0  lib1-virus-231024     virus    lib1  lib1-plasmid-231024   \n",
       "1  lib2-virus-231024     virus    lib2  lib2-plasmid-231024   \n",
       "2  lib3-virus-231024     virus    lib3  lib3-plasmid-231024   \n",
       "\n",
       "                post    date             errpre          errpost  \n",
       "0  lib1-virus-231024  231024  wt-plasmid-231024  wt-virus-231024  \n",
       "1  lib2-virus-231024  231024  wt-plasmid-231024  wt-virus-231024  \n",
       "2  lib3-virus-231024  231024  wt-plasmid-231024  wt-virus-231024  "
      ]
     },
     "metadata": {},
     "output_type": "display_data"
    }
   ],
   "source": [
    "prefs_batch = (\n",
    "    samples\n",
    "    .query('library != \"wt\"')\n",
    "    .query('selection != \"plasmid\"')\n",
    "    .assign(post=lambda x: x['name'])\n",
    "    .merge(samples.query('selection == \"plasmid\"')\n",
    "                  .assign(pre=lambda x: x['name'])\n",
    "                  [['library', 'pre']],\n",
    "           on=['library'], how='left', validate='many_to_one',\n",
    "           )\n",
    "    [['name', 'selection', 'library', 'pre', 'post', 'date']]\n",
    "    .assign(errpre=errpre)\n",
    "    .merge(samples.query('library == \"wt\"')\n",
    "                  .assign(errpost=lambda x: x['name'])\n",
    "                  [['selection', 'errpost', 'date']],\n",
    "           on=['selection', 'date'], how='left'\n",
    "           )\n",
    "    )\n",
    "assert prefs_batch.notnull().all().all()\n",
    "\n",
    "display(prefs_batch)"
   ]
  },
  {
   "cell_type": "markdown",
   "metadata": {
    "execution": {
     "iopub.execute_input": "2020-11-22T23:00:58.649652Z",
     "iopub.status.busy": "2020-11-22T23:00:58.649150Z",
     "iopub.status.idle": "2020-11-22T23:00:58.655446Z",
     "shell.execute_reply": "2020-11-22T23:00:58.654354Z",
     "shell.execute_reply.started": "2020-11-22T23:00:58.649564Z"
    }
   },
   "source": [
    "Now run [dms2_batch_prefs](https://jbloomlab.github.io/dms_tools2/dms2_batch_prefs.html):"
   ]
  },
  {
   "cell_type": "code",
   "execution_count": 43,
   "metadata": {},
   "outputs": [
    {
     "name": "stdout",
     "output_type": "stream",
     "text": [
      "Amino-acid preferences without stop codons calculated for all samples.\n"
     ]
    }
   ],
   "source": [
    "prefsdir = os.path.join(resultsdir, 'prefs')\n",
    "os.makedirs(prefsdir, exist_ok=True)\n",
    "\n",
    "prefs_batchfile = os.path.join(prefsdir, 'batch.csv')\n",
    "prefs_batch.to_csv(prefs_batchfile, index=False)\n",
    "\n",
    "log = ! dms2_batch_prefs \\\n",
    "        --indir {renumb_countsdir} \\\n",
    "        --batchfile {prefs_batchfile} \\\n",
    "        --outdir {prefsdir} \\\n",
    "        --summaryprefix summary \\\n",
    "        --method ratio \\\n",
    "        --use_existing {use_existing} \\\n",
    "        --ncpus {ncpus}\n",
    "\n",
    "assert all(map(os.path.isfile, [os.path.join(prefsdir, name + '_prefs.csv') \n",
    "                                for name in prefs_batch.name])), '\\n'.join(log)\n",
    "\n",
    "print(\"Amino-acid preferences without stop codons calculated for all samples.\")"
   ]
  },
  {
   "cell_type": "markdown",
   "metadata": {},
   "source": [
    "Look at correlation among the amino-acid preferences for the individual libraries:"
   ]
  },
  {
   "cell_type": "code",
   "execution_count": 44,
   "metadata": {},
   "outputs": [
    {
     "data": {
      "text/html": [
       "<embed src=\"results/tile_1/prefs/summary_prefscorr.pdf\" type=\"application/pdf\" width=\"100%\" height=\"600px\" />"
      ],
      "text/plain": [
       "<IPython.core.display.HTML object>"
      ]
     },
     "execution_count": 44,
     "metadata": {},
     "output_type": "execute_result"
    }
   ],
   "source": [
    "pdf(os.path.join(prefsdir, 'summary_prefscorr.pdf'))"
   ]
  },
  {
   "cell_type": "markdown",
   "metadata": {},
   "source": [
    "Amino-acid preferences for **all** samples, and for each condition separately:"
   ]
  },
  {
   "cell_type": "code",
   "execution_count": 46,
   "metadata": {},
   "outputs": [
    {
     "name": "stdout",
     "output_type": "stream",
     "text": [
      "Average preferences across conditions are in the following files:\n"
     ]
    },
    {
     "data": {
      "text/html": [
       "<table border=\"1\" class=\"dataframe\">\n",
       "  <thead>\n",
       "    <tr style=\"text-align: right;\">\n",
       "      <th></th>\n",
       "      <th>file</th>\n",
       "    </tr>\n",
       "  </thead>\n",
       "  <tbody>\n",
       "    <tr>\n",
       "      <th>virus</th>\n",
       "      <td>results/tile_1/prefs/prefs_virus.csv</td>\n",
       "    </tr>\n",
       "  </tbody>\n",
       "</table>"
      ],
      "text/plain": [
       "<IPython.core.display.HTML object>"
      ]
     },
     "metadata": {},
     "output_type": "display_data"
    }
   ],
   "source": [
    "# file with preferences for all samples\n",
    "prefs_files = {}\n",
    "for selection, df in prefs_batch.groupby('selection'):\n",
    "    selection_prefsfiles = [os.path.join(prefsdir, f\"{name}_prefs.csv\") for name in df['name']]\n",
    "    assert all(map(os.path.isfile, selection_prefsfiles)), selection_prefsfiles\n",
    "    prefs_files[selection] = os.path.join(prefsdir, f\"prefs_{selection}.csv\")\n",
    "    dms_tools2.prefs.avgPrefs(selection_prefsfiles).to_csv(prefs_files[selection],\n",
    "                                                           index=False,\n",
    "                                                           float_format='%.5f')\n",
    "    \n",
    "print('Average preferences across conditions are in the following files:')\n",
    "display(HTML(pd.Series(prefs_files).rename('file').to_frame().to_html()))"
   ]
  },
  {
   "cell_type": "markdown",
   "metadata": {},
   "source": [
    "Now we will make a logo plot of the average of the amino-acid preferences across all samples, and each group of samples.\n",
    "We do this using [dms2_logoplot](https://jbloomlab.github.io/dms_tools2/dms2_logoplot.html). Note that this logo plot shows the raw unscaled (not re-scaled) preferences. In this plot, the height of each letter is proportional to the \"preference\" for that amino acid at that site, so taller letters are more preferred at a site. If the site tolerates everything, there will just be lots of small letters as all amino acids equally tolerated:"
   ]
  },
  {
   "cell_type": "code",
   "execution_count": 49,
   "metadata": {},
   "outputs": [
    {
     "name": "stdout",
     "output_type": "stream",
     "text": [
      "\n",
      "\n",
      "Preferences for virus samples:\n"
     ]
    },
    {
     "data": {
      "text/html": [
       "<embed src=\"results/tile_1/logoplots/virus_prefs.pdf\" type=\"application/pdf\" width=\"100%\" height=\"600px\" />"
      ],
      "text/plain": [
       "<IPython.core.display.HTML object>"
      ]
     },
     "execution_count": 49,
     "metadata": {},
     "output_type": "execute_result"
    }
   ],
   "source": [
    "logodir = os.path.join(resultsdir, 'logoplots')\n",
    "os.makedirs(logodir, exist_ok=True)\n",
    "\n",
    "# get wildtype amino acids to use as overlay\n",
    "wt_aas = pd.DataFrame.from_records(\n",
    "            [(r + 1 + site_number_offset, a) for r, a in enumerate(refprot) if a != '*'],\n",
    "            columns=['site', 'wildtype'])\n",
    "wtoverlayfile = os.path.join(logodir, 'wt_overlay.csv')\n",
    "wt_aas.to_csv(wtoverlayfile, index=False)\n",
    "\n",
    "for selection, prefs_csv in prefs_files.items():\n",
    "\n",
    "    logoplot = os.path.join(logodir, f\"{selection}_prefs.pdf\")\n",
    "\n",
    "    log = ! dms2_logoplot \\\n",
    "            --prefs {prefs_csv} \\\n",
    "            --name {selection} \\\n",
    "            --outdir {logodir} \\\n",
    "            --nperline 56 \\\n",
    "            --overlay1 {wtoverlayfile} wildtype wildtype \\\n",
    "            --letterheight 1.2 \\\n",
    "            --use_existing {use_existing}\n",
    "\n",
    "    assert os.path.isfile(logoplot), '\\n'.join(log)\n",
    "\n",
    "    print(f\"\\n\\nPreferences for {selection} samples:\")\n"
   ]
  },
  {
   "cell_type": "code",
   "execution_count": 63,
   "metadata": {},
   "outputs": [
    {
     "data": {
      "text/html": [
       "<embed src=\"results/tile_1/logoplots_withStops/virus_muteffects.pdf\" type=\"application/pdf\" width=\"100%\" height=\"600px\" />"
      ],
      "text/plain": [
       "<IPython.core.display.HTML object>"
      ]
     },
     "execution_count": 63,
     "metadata": {},
     "output_type": "execute_result"
    }
   ],
   "source": [
    "pdf(logoplot)"
   ]
  },
  {
   "cell_type": "markdown",
   "metadata": {},
   "source": [
    "### Mutation Effect\n",
    "\n",
    "We can also represent the effects of mutations as the ratio of the preference for the mutant amino-acid to the wildtype amino-acid. This is a measure of its enrichment. If we take the log of this mutational effect, negative values indicate deleterious mutations and positive values indicate favorable mutations. The potential advantage of this representation is that it better shows the detailed differences between mutations to amino acids with small preferences, which can be useful for figuring out if we think a mutation is just very mildly deleterious or highly deleterious."
   ]
  },
  {
   "cell_type": "code",
   "execution_count": 51,
   "metadata": {},
   "outputs": [],
   "source": [
    "muteffectsdir = os.path.join(resultsdir, 'muteffects')\n",
    "os.makedirs(muteffectsdir, exist_ok=True)"
   ]
  },
  {
   "cell_type": "markdown",
   "metadata": {},
   "source": [
    "We convert the amino-acid preferences into mutational effects without stop codons. Then, we make a logo plots showing the mutational effects for all samples, and for each condition. Letters below the line indicate deleterious mutations, and letters above the line indicate beneficial ones. We include a scale bar indicating the fold-enrichment implied by each letter height. "
   ]
  },
  {
   "cell_type": "code",
   "execution_count": 52,
   "metadata": {},
   "outputs": [
    {
     "name": "stdout",
     "output_type": "stream",
     "text": [
      "Writing mutational effects for virus to results/tile_1/muteffects/virus_muteffects.csv\n",
      "\n",
      "\n",
      "Mutational effects for virus samples:\n"
     ]
    }
   ],
   "source": [
    "# ensure stop codons are not in the character list\n",
    "if '*' in AAS:\n",
    "    AAS.remove('*')\n",
    "\n",
    "# calculate mutational effects \n",
    "muteffects_files = {}\n",
    "for selection, prefs_csv in prefs_files.items():\n",
    "    muteffects = dms_tools2.prefs.prefsToMutFromWtEffects(\n",
    "                    prefs=pd.read_csv(prefs_csv),\n",
    "                    charlist=AAS,\n",
    "                    wts=wt_aas)\n",
    "    muteffects_files[selection] = os.path.join(muteffectsdir, f\"{selection}_muteffects.csv\")\n",
    "    print(f\"Writing mutational effects for {selection} to {muteffects_files[selection]}\")\n",
    "    muteffects.to_csv(muteffects_files[selection], index=False, float_format='%.5g')\n",
    "\n",
    "for selection, muteffects_csv in muteffects_files.items():\n",
    "\n",
    "    logoplot = os.path.join(logodir, f\"{selection}_muteffects.pdf\")\n",
    "\n",
    "    log = ! dms2_logoplot \\\n",
    "            --muteffects {muteffects_csv} \\\n",
    "            --name {selection} \\\n",
    "            --outdir {logodir} \\\n",
    "            --nperline 56 \\\n",
    "            --overlay1 {wtoverlayfile} wildtype wildtype \\\n",
    "            --scalebar 6.64 \"100-fold change (log scale)\" \\\n",
    "            --use_existing {use_existing}\n",
    "\n",
    "    assert os.path.isfile(logoplot), '\\n'.join(log)\n",
    "\n",
    "    print(f\"\\n\\nMutational effects for {selection} samples:\")"
   ]
  },
  {
   "cell_type": "code",
   "execution_count": 53,
   "metadata": {},
   "outputs": [
    {
     "data": {
      "text/html": [
       "<embed src=\"results/tile_1/logoplots/virus_muteffects.pdf\" type=\"application/pdf\" width=\"100%\" height=\"600px\" />"
      ],
      "text/plain": [
       "<IPython.core.display.HTML object>"
      ]
     },
     "execution_count": 53,
     "metadata": {},
     "output_type": "execute_result"
    }
   ],
   "source": [
    "pdf(logoplot)"
   ]
  },
  {
   "cell_type": "markdown",
   "metadata": {},
   "source": [
    "## Functional effects of mutations of viral growth with stop codons\n",
    "\n",
    "Going back to the amino acid preferences step, run [dms2_batch_prefs](https://jbloomlab.github.io/dms_tools2/dms2_batch_prefs.html) again, this time including stop codons. "
   ]
  },
  {
   "cell_type": "code",
   "execution_count": 55,
   "metadata": {},
   "outputs": [
    {
     "name": "stdout",
     "output_type": "stream",
     "text": [
      "Amino-acid preferences with stop codons calculated for all samples.\n"
     ]
    }
   ],
   "source": [
    "prefs_withStops_dir = os.path.join(resultsdir, 'prefs_withStops')\n",
    "os.makedirs(prefs_withStops_dir, exist_ok=True)\n",
    "\n",
    "log = ! dms2_batch_prefs \\\n",
    "        --indir {renumb_countsdir} \\\n",
    "        --batchfile {prefs_batchfile} \\\n",
    "        --outdir {prefs_withStops_dir} \\\n",
    "        --summaryprefix summary \\\n",
    "        --method ratio \\\n",
    "        --excludestop 'no' \\\n",
    "        --use_existing {use_existing} \\\n",
    "        --ncpus {ncpus}\n",
    "\n",
    "assert all(map(os.path.isfile, [os.path.join(prefsdir, name + '_prefs.csv') \n",
    "                                for name in prefs_batch.name])), '\\n'.join(log)\n",
    "\n",
    "print(\"Amino-acid preferences with stop codons calculated for all samples.\")"
   ]
  },
  {
   "cell_type": "markdown",
   "metadata": {},
   "source": [
    "Now let's get the amino-acid preferences for **all** samples, and for each condition separately:"
   ]
  },
  {
   "cell_type": "code",
   "execution_count": 56,
   "metadata": {},
   "outputs": [
    {
     "name": "stdout",
     "output_type": "stream",
     "text": [
      "Average preferences across conditions are in the following files:\n"
     ]
    },
    {
     "data": {
      "text/html": [
       "<table border=\"1\" class=\"dataframe\">\n",
       "  <thead>\n",
       "    <tr style=\"text-align: right;\">\n",
       "      <th></th>\n",
       "      <th>file</th>\n",
       "    </tr>\n",
       "  </thead>\n",
       "  <tbody>\n",
       "    <tr>\n",
       "      <th>virus</th>\n",
       "      <td>results/tile_1/prefs_withStops/prefs_virus.csv</td>\n",
       "    </tr>\n",
       "  </tbody>\n",
       "</table>"
      ],
      "text/plain": [
       "<IPython.core.display.HTML object>"
      ]
     },
     "metadata": {},
     "output_type": "display_data"
    }
   ],
   "source": [
    "prefs_withStops_files = {}\n",
    "\n",
    "# file with preferences for each condition\n",
    "for selection, df in prefs_batch.groupby('selection'):\n",
    "    selection_prefsfiles = [os.path.join(prefs_withStops_dir, f\"{name}_prefs.csv\") for name in df['name']]\n",
    "    assert all(map(os.path.isfile, selection_prefsfiles)), selection_prefsfiles\n",
    "    prefs_withStops_files[selection] = os.path.join(prefs_withStops_dir, f\"prefs_{selection}.csv\")\n",
    "    dms_tools2.prefs.avgPrefs(selection_prefsfiles).to_csv(prefs_withStops_files[selection],\n",
    "                                                           index=False,\n",
    "                                                           float_format='%.5f')\n",
    "    \n",
    "print('Average preferences across conditions are in the following files:')\n",
    "display(HTML(pd.Series(prefs_withStops_files).rename('file').to_frame().to_html()))"
   ]
  },
  {
   "cell_type": "markdown",
   "metadata": {},
   "source": [
    "Output logoplots of amino acid preferences with stop codons."
   ]
  },
  {
   "cell_type": "code",
   "execution_count": 58,
   "metadata": {},
   "outputs": [
    {
     "name": "stdout",
     "output_type": "stream",
     "text": [
      "\n",
      "\n",
      "Preferences for virus samples:\n"
     ]
    }
   ],
   "source": [
    "logo_withStops_dir = os.path.join(resultsdir, 'logoplots_withStops')\n",
    "os.makedirs(logo_withStops_dir, exist_ok=True)\n",
    "\n",
    "for selection, prefs_csv in prefs_withStops_files.items():\n",
    "\n",
    "    logoplot = os.path.join(logo_withStops_dir, f\"{selection}_prefs.pdf\")\n",
    "\n",
    "    log = ! dms2_logoplot \\\n",
    "            --prefs {prefs_csv} \\\n",
    "            --name {selection} \\\n",
    "            --outdir {logo_withStops_dir} \\\n",
    "            --nperline 56 \\\n",
    "            --overlay1 {wtoverlayfile} wildtype wildtype \\\n",
    "            --letterheight 1.2 \\\n",
    "            --use_existing {use_existing}\n",
    "\n",
    "    assert os.path.isfile(logoplot), '\\n'.join(log)\n",
    "\n",
    "    print(f\"\\n\\nPreferences for {selection} samples:\")\n"
   ]
  },
  {
   "cell_type": "code",
   "execution_count": 59,
   "metadata": {},
   "outputs": [
    {
     "data": {
      "text/html": [
       "<embed src=\"results/tile_1/logoplots_withStops/virus_prefs.pdf\" type=\"application/pdf\" width=\"100%\" height=\"600px\" />"
      ],
      "text/plain": [
       "<IPython.core.display.HTML object>"
      ]
     },
     "execution_count": 59,
     "metadata": {},
     "output_type": "execute_result"
    }
   ],
   "source": [
    "pdf(logoplot)"
   ]
  },
  {
   "cell_type": "markdown",
   "metadata": {},
   "source": [
    "Repeat converting the amino-acid preferences into mutational effects, now including stop codons. Then make logo plots as above."
   ]
  },
  {
   "cell_type": "code",
   "execution_count": 62,
   "metadata": {},
   "outputs": [
    {
     "name": "stdout",
     "output_type": "stream",
     "text": [
      "Writing mutational effects for virus to results/tile_1/muteffects_withStops/virus_muteffects.csv\n",
      "\n",
      "\n",
      "Mutational effects for virus samples:\n"
     ]
    }
   ],
   "source": [
    "# Analysis inlcuding stop codons, as means of validating expected deleterious effects\n",
    "muteffects_withStops_dir = os.path.join(resultsdir, 'muteffects_withStops')\n",
    "os.makedirs(muteffects_withStops_dir, exist_ok=True)\n",
    "\n",
    "# Add stop codon to character list\n",
    "if '*' not in AAS:\n",
    "    AAS.append('*')\n",
    "\n",
    "# Calculate mutational effects \n",
    "muteffects_withStops_files = {}\n",
    "for selection, prefs_withStops_csv in prefs_withStops_files.items():\n",
    "    muteffects_withStops = dms_tools2.prefs.prefsToMutFromWtEffects(\n",
    "                    prefs=pd.read_csv(prefs_withStops_csv),\n",
    "                    charlist=AAS,\n",
    "                    wts=wt_aas)\n",
    "    muteffects_withStops_files[selection] = os.path.join(muteffects_withStops_dir, f\"{selection}_muteffects.csv\")\n",
    "    print(f\"Writing mutational effects for {selection} to {muteffects_withStops_files[selection]}\")\n",
    "    muteffects_withStops.to_csv(muteffects_withStops_files[selection], index=False, float_format='%.5g')\n",
    "\n",
    "for selection, muteffects_withStops_csv in muteffects_withStops_files.items():\n",
    "\n",
    "    logoplot = os.path.join(logo_withStops_dir, f\"{selection}_muteffects.pdf\")\n",
    "\n",
    "    log = ! dms2_logoplot \\\n",
    "            --muteffects {muteffects_withStops_csv} \\\n",
    "            --name {selection} \\\n",
    "            --outdir {logo_withStops_dir} \\\n",
    "            --nperline 56 \\\n",
    "            --overlay1 {wtoverlayfile} wildtype wildtype \\\n",
    "            --scalebar 6.64 \"100-fold change (log scale)\" \\\n",
    "            --use_existing {use_existing}\n",
    "\n",
    "    assert os.path.isfile(logoplot), '\\n'.join(log)\n",
    "\n",
    "    print(f\"\\n\\nMutational effects for {selection} samples:\")"
   ]
  },
  {
   "cell_type": "code",
   "execution_count": 61,
   "metadata": {},
   "outputs": [
    {
     "data": {
      "text/html": [
       "<embed src=\"results/tile_1/logoplots_withStops/virus_muteffects.pdf\" type=\"application/pdf\" width=\"100%\" height=\"600px\" />"
      ],
      "text/plain": [
       "<IPython.core.display.HTML object>"
      ]
     },
     "execution_count": 61,
     "metadata": {},
     "output_type": "execute_result"
    }
   ],
   "source": [
    "pdf(logoplot)"
   ]
  },
  {
   "cell_type": "code",
   "execution_count": null,
   "metadata": {},
   "outputs": [],
   "source": []
  }
 ],
 "metadata": {
  "kernelspec": {
   "display_name": "Python 3 (ipykernel)",
   "language": "python",
   "name": "python3"
  },
  "language_info": {
   "codemirror_mode": {
    "name": "ipython",
    "version": 3
   },
   "file_extension": ".py",
   "mimetype": "text/x-python",
   "name": "python",
   "nbconvert_exporter": "python",
   "pygments_lexer": "ipython3",
   "version": "3.8.19"
  },
  "toc": {
   "base_numbering": 1,
   "nav_menu": {},
   "number_sections": false,
   "sideBar": true,
   "skip_h1_title": false,
   "title_cell": "Table of Contents",
   "title_sidebar": "Contents",
   "toc_cell": true,
   "toc_position": {
    "height": "calc(100% - 180px)",
    "left": "10px",
    "top": "150px",
    "width": "299.631px"
   },
   "toc_section_display": true,
   "toc_window_display": true
  }
 },
 "nbformat": 4,
 "nbformat_minor": 4
}
